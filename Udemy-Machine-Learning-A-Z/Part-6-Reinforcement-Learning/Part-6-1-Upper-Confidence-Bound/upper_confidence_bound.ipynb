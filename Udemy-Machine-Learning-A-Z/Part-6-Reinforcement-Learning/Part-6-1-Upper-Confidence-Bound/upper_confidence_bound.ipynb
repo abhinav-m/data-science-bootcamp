{
  "nbformat": 4,
  "nbformat_minor": 0,
  "metadata": {
    "colab": {
      "name": "upper_confidence_bound.ipynb",
      "provenance": [],
      "collapsed_sections": [],
      "toc_visible": true,
      "include_colab_link": true
    },
    "kernelspec": {
      "name": "python3",
      "display_name": "Python 3"
    }
  },
  "cells": [
    {
      "cell_type": "markdown",
      "metadata": {
        "id": "view-in-github",
        "colab_type": "text"
      },
      "source": [
        "<a href=\"https://colab.research.google.com/github/abhinav-m/data-science-bootcamp/blob/master/Udemy-Machine-Learning-A-Z/Part-6-Reinforcement-Learning/Part-6-1-Upper-Confidence-Bound/upper_confidence_bound.ipynb\" target=\"_parent\"><img src=\"https://colab.research.google.com/assets/colab-badge.svg\" alt=\"Open In Colab\"/></a>"
      ]
    },
    {
      "cell_type": "markdown",
      "metadata": {
        "id": "QJdrJJQUv3-k",
        "colab_type": "text"
      },
      "source": [
        "# Upper Confidence Bound (UCB)"
      ]
    },
    {
      "cell_type": "markdown",
      "metadata": {
        "id": "2XCjepjJwEv-",
        "colab_type": "text"
      },
      "source": [
        "## Importing the libraries"
      ]
    },
    {
      "cell_type": "code",
      "metadata": {
        "id": "fR4xd6951mCJ",
        "colab_type": "code",
        "colab": {}
      },
      "source": [
        "import matplotlib.pyplot as plt\n",
        "import pandas as pd\n",
        "import numpy as np"
      ],
      "execution_count": null,
      "outputs": []
    },
    {
      "cell_type": "markdown",
      "metadata": {
        "id": "npqlXjaNwYTv",
        "colab_type": "text"
      },
      "source": [
        "## Importing the dataset"
      ]
    },
    {
      "cell_type": "code",
      "metadata": {
        "id": "x9kcLANU1s5r",
        "colab_type": "code",
        "colab": {}
      },
      "source": [
        "dataset = pd.read_csv('Ads_CTR_Optimisation.csv')"
      ],
      "execution_count": null,
      "outputs": []
    },
    {
      "cell_type": "markdown",
      "metadata": {
        "id": "PaSbots_wfoB",
        "colab_type": "text"
      },
      "source": [
        "## Implementing UCB"
      ]
    },
    {
      "cell_type": "code",
      "metadata": {
        "id": "o6JYRnn13SqJ",
        "colab_type": "code",
        "colab": {}
      },
      "source": [
        "# Number of users \n",
        "N = 10000\n",
        "# Number of ads\n",
        "d = 10\n",
        "# Ads selected over round\n",
        "ads_selected = []\n",
        "# Number of times each ad was selected\n",
        "number_of_selections = [0] * d\n",
        "# Sums of rewards upto round n\n",
        "sum_of_rewards = [0] * d\n",
        "# Total reward accumulated\n",
        "total_reward = 0"
      ],
      "execution_count": null,
      "outputs": []
    },
    {
      "cell_type": "markdown",
      "metadata": {
        "id": "AXftWcjDwsYj",
        "colab_type": "text"
      },
      "source": [
        "## Visualising the results"
      ]
    }
  ]
}