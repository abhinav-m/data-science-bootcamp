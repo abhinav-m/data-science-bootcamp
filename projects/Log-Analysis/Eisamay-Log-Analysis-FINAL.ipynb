{
 "cells": [
  {
   "cell_type": "markdown",
   "metadata": {},
   "source": [
    "# Eisamay property log analysis\n",
    "\n",
    "> **The aim of this analysis is to identify and correct the various types of errors which reach our vm machines and aim to fix them. By analysing the logs and identifying where we are facing the errors we can:**\n",
    "* improve our websites response rate \n",
    "* reduce bounce rate.\n",
    "* Identify key sources of errors\n",
    "* Identify key problems within our code base which would be applicable across properties\n",
    "* Identify platform / property / VM  specific errors \n"
   ]
  },
  {
   "cell_type": "code",
   "execution_count": 1,
   "metadata": {},
   "outputs": [
    {
     "ename": "ValueError",
     "evalue": "Value must have type '<class 'int'>'",
     "output_type": "error",
     "traceback": [
      "\u001b[0;31m---------------------------------------------------------------------------\u001b[0m",
      "\u001b[0;31mValueError\u001b[0m                                Traceback (most recent call last)",
      "\u001b[0;32m<ipython-input-1-6f1e056baf98>\u001b[0m in \u001b[0;36m<module>\u001b[0;34m\u001b[0m\n\u001b[1;32m      3\u001b[0m \u001b[0;32mimport\u001b[0m \u001b[0mseaborn\u001b[0m \u001b[0;32mas\u001b[0m \u001b[0msns\u001b[0m\u001b[0;34m\u001b[0m\u001b[0;34m\u001b[0m\u001b[0m\n\u001b[1;32m      4\u001b[0m \u001b[0;32mimport\u001b[0m \u001b[0mmatplotlib\u001b[0m\u001b[0;34m.\u001b[0m\u001b[0mpyplot\u001b[0m \u001b[0;32mas\u001b[0m \u001b[0mplt\u001b[0m\u001b[0;34m\u001b[0m\u001b[0;34m\u001b[0m\u001b[0m\n\u001b[0;32m----> 5\u001b[0;31m \u001b[0mpd\u001b[0m\u001b[0;34m.\u001b[0m\u001b[0mset_option\u001b[0m\u001b[0;34m(\u001b[0m\u001b[0;34m'display.max_colwidth'\u001b[0m\u001b[0;34m,\u001b[0m \u001b[0;32mNone\u001b[0m\u001b[0;34m)\u001b[0m\u001b[0;34m\u001b[0m\u001b[0;34m\u001b[0m\u001b[0m\n\u001b[0m",
      "\u001b[0;32m~/anaconda3/lib/python3.7/site-packages/pandas/core/config.py\u001b[0m in \u001b[0;36m__call__\u001b[0;34m(self, *args, **kwds)\u001b[0m\n\u001b[1;32m    225\u001b[0m \u001b[0;34m\u001b[0m\u001b[0m\n\u001b[1;32m    226\u001b[0m     \u001b[0;32mdef\u001b[0m \u001b[0m__call__\u001b[0m\u001b[0;34m(\u001b[0m\u001b[0mself\u001b[0m\u001b[0;34m,\u001b[0m \u001b[0;34m*\u001b[0m\u001b[0margs\u001b[0m\u001b[0;34m,\u001b[0m \u001b[0;34m**\u001b[0m\u001b[0mkwds\u001b[0m\u001b[0;34m)\u001b[0m\u001b[0;34m:\u001b[0m\u001b[0;34m\u001b[0m\u001b[0;34m\u001b[0m\u001b[0m\n\u001b[0;32m--> 227\u001b[0;31m         \u001b[0;32mreturn\u001b[0m \u001b[0mself\u001b[0m\u001b[0;34m.\u001b[0m\u001b[0m__func__\u001b[0m\u001b[0;34m(\u001b[0m\u001b[0;34m*\u001b[0m\u001b[0margs\u001b[0m\u001b[0;34m,\u001b[0m \u001b[0;34m**\u001b[0m\u001b[0mkwds\u001b[0m\u001b[0;34m)\u001b[0m\u001b[0;34m\u001b[0m\u001b[0;34m\u001b[0m\u001b[0m\n\u001b[0m\u001b[1;32m    228\u001b[0m \u001b[0;34m\u001b[0m\u001b[0m\n\u001b[1;32m    229\u001b[0m     \u001b[0;34m@\u001b[0m\u001b[0mproperty\u001b[0m\u001b[0;34m\u001b[0m\u001b[0;34m\u001b[0m\u001b[0m\n",
      "\u001b[0;32m~/anaconda3/lib/python3.7/site-packages/pandas/core/config.py\u001b[0m in \u001b[0;36m_set_option\u001b[0;34m(*args, **kwargs)\u001b[0m\n\u001b[1;32m    121\u001b[0m         \u001b[0mo\u001b[0m \u001b[0;34m=\u001b[0m \u001b[0m_get_registered_option\u001b[0m\u001b[0;34m(\u001b[0m\u001b[0mkey\u001b[0m\u001b[0;34m)\u001b[0m\u001b[0;34m\u001b[0m\u001b[0;34m\u001b[0m\u001b[0m\n\u001b[1;32m    122\u001b[0m         \u001b[0;32mif\u001b[0m \u001b[0mo\u001b[0m \u001b[0;32mand\u001b[0m \u001b[0mo\u001b[0m\u001b[0;34m.\u001b[0m\u001b[0mvalidator\u001b[0m\u001b[0;34m:\u001b[0m\u001b[0;34m\u001b[0m\u001b[0;34m\u001b[0m\u001b[0m\n\u001b[0;32m--> 123\u001b[0;31m             \u001b[0mo\u001b[0m\u001b[0;34m.\u001b[0m\u001b[0mvalidator\u001b[0m\u001b[0;34m(\u001b[0m\u001b[0mv\u001b[0m\u001b[0;34m)\u001b[0m\u001b[0;34m\u001b[0m\u001b[0;34m\u001b[0m\u001b[0m\n\u001b[0m\u001b[1;32m    124\u001b[0m \u001b[0;34m\u001b[0m\u001b[0m\n\u001b[1;32m    125\u001b[0m         \u001b[0;31m# walk the nested dict\u001b[0m\u001b[0;34m\u001b[0m\u001b[0;34m\u001b[0m\u001b[0;34m\u001b[0m\u001b[0m\n",
      "\u001b[0;32m~/anaconda3/lib/python3.7/site-packages/pandas/core/config.py\u001b[0m in \u001b[0;36minner\u001b[0;34m(x)\u001b[0m\n\u001b[1;32m    758\u001b[0m         \u001b[0;32mif\u001b[0m \u001b[0mtype\u001b[0m\u001b[0;34m(\u001b[0m\u001b[0mx\u001b[0m\u001b[0;34m)\u001b[0m \u001b[0;34m!=\u001b[0m \u001b[0m_type\u001b[0m\u001b[0;34m:\u001b[0m\u001b[0;34m\u001b[0m\u001b[0;34m\u001b[0m\u001b[0m\n\u001b[1;32m    759\u001b[0m             \u001b[0mmsg\u001b[0m \u001b[0;34m=\u001b[0m \u001b[0;34m\"Value must have type '{typ!s}'\"\u001b[0m\u001b[0;34m\u001b[0m\u001b[0;34m\u001b[0m\u001b[0m\n\u001b[0;32m--> 760\u001b[0;31m             \u001b[0;32mraise\u001b[0m \u001b[0mValueError\u001b[0m\u001b[0;34m(\u001b[0m\u001b[0mmsg\u001b[0m\u001b[0;34m.\u001b[0m\u001b[0mformat\u001b[0m\u001b[0;34m(\u001b[0m\u001b[0mtyp\u001b[0m\u001b[0;34m=\u001b[0m\u001b[0m_type\u001b[0m\u001b[0;34m)\u001b[0m\u001b[0;34m)\u001b[0m\u001b[0;34m\u001b[0m\u001b[0;34m\u001b[0m\u001b[0m\n\u001b[0m\u001b[1;32m    761\u001b[0m \u001b[0;34m\u001b[0m\u001b[0m\n\u001b[1;32m    762\u001b[0m     \u001b[0;32mreturn\u001b[0m \u001b[0minner\u001b[0m\u001b[0;34m\u001b[0m\u001b[0;34m\u001b[0m\u001b[0m\n",
      "\u001b[0;31mValueError\u001b[0m: Value must have type '<class 'int'>'"
     ]
    }
   ],
   "source": [
    "import pandas as pd\n",
    "import numpy as np\n",
    "import seaborn as sns\n",
    "import matplotlib.pyplot as plt\n",
    "pd.set_option('display.max_colwidth', None)"
   ]
  },
  {
   "cell_type": "code",
   "execution_count": null,
   "metadata": {},
   "outputs": [],
   "source": [
    "# Reading the log file\n",
    "df = pd.read_csv('combined_error_log.csv',index_col=False)"
   ]
  },
  {
   "cell_type": "code",
   "execution_count": null,
   "metadata": {},
   "outputs": [],
   "source": [
    "# Seeing data\n",
    "df.head(5)"
   ]
  },
  {
   "cell_type": "markdown",
   "metadata": {},
   "source": [
    "> **Dropping any duplicate types of errors based on the following combination**\n",
    "\n"
   ]
  },
  {
   "cell_type": "code",
   "execution_count": null,
   "metadata": {},
   "outputs": [],
   "source": [
    "df.drop_duplicates(subset=['PLATFORM','REQ_URL', 'REQ_FEED','DESC'], keep='last')\n",
    "df.shape"
   ]
  },
  {
   "cell_type": "code",
   "execution_count": null,
   "metadata": {},
   "outputs": [],
   "source": [
    "df.info()"
   ]
  },
  {
   "cell_type": "markdown",
   "metadata": {},
   "source": [
    "* **Parsing time and date to get a more accurate analysis if needed**"
   ]
  },
  {
   "cell_type": "code",
   "execution_count": null,
   "metadata": {},
   "outputs": [],
   "source": [
    "# Adding parsed time \n",
    "# df['TIME'] = df['TIME'].apply(lambda x: x.strip())\n",
    "# df['PARSED_TIME'] =df['TIME'].apply(lambda x: x[11:].strip())\n",
    "# df['PARSED_TIME'] = df['PARSED_TIME'].apply(lambda x: x[:x.rindex(':')])\n",
    "# df['PARSED_DATE'] = df['TIME'].apply(lambda x: x[:11].strip())\n",
    "# df['PARSED_TIME'].head(30)\n",
    "# df['PARSED_TIME'] = pd.to_datetime(df['PARSED_TIME'], format='%H:%M')\n",
    "# df['PARSED_TIME'].head(30)\n",
    "## Parsing time and date, converting to datetime\n",
    "df['PARSED_DATE_TIME'] = pd.to_datetime(df['TIME'], format='%d-%m-%Y %H:%M:%S')\n",
    "df['PARSED_DATE_TIME'].dt.time.head()\n",
    "\n",
    "\n",
    "hour_labels = [str(x) + '-'+str(x+1) for x in range(23)]\n",
    "hour_labels.append('23-0')\n",
    "hour_labels\n",
    "\n",
    "## Binning the same to make it a categorical variable.\n",
    "df[\"BINNED_HOURS\"] = pd.cut(df.PARSED_DATE_TIME.dt.hour, bins=24,labels=hour_labels)\n",
    "df['BINNED_HOURS']"
   ]
  },
  {
   "cell_type": "markdown",
   "metadata": {},
   "source": [
    "* **Categorizing urls based on page types**"
   ]
  },
  {
   "cell_type": "code",
   "execution_count": null,
   "metadata": {},
   "outputs": [],
   "source": [
    "def categorize_url(url):\n",
    "    template_map = {\n",
    "        'amp_':'amp',\n",
    "        'articleshow':'articleshow',\n",
    "        'photoshow':'photoshow',\n",
    "        'photolist':'photolist',\n",
    "        'videoshow':'videoshow',\n",
    "        'articlelist':'articlelist',\n",
    "        'topics':'topics'\n",
    "    }\n",
    "    for template in template_map:\n",
    "        if template in url:\n",
    "            return template_map[template]\n",
    "    return 'others'\n",
    "df['URL_CATEGORY'] = df['REQ_URL'].apply(categorize_url)\n"
   ]
  },
  {
   "cell_type": "markdown",
   "metadata": {},
   "source": [
    "**Categorizing Errors based on Error types**\n",
    "\n",
    "How i found the categories:\n",
    "1. Initially i was assuming we generally face two types of errors: **404** for invalid feed hit, or **9000ms** where feed responds slowly. However inspecting and grouping feed errors\n",
    "2. First inspected the df, found **404 and undefined**, started with these as a base along with **null**\n",
    "3. Characterized others as **\"others\"** manually inspected others one by one and found: **410 ,403, ['object Object'] timeout and ECONNRESET**\n"
   ]
  },
  {
   "cell_type": "code",
   "execution_count": null,
   "metadata": {},
   "outputs": [],
   "source": [
    "# How i found the categories:\n",
    "# First inspected the df, found 404 and undefined, started with these as a base along with null\n",
    "# Characterized others as \"others\" manually inspected others one by one and\n",
    "# found: 410 ,403, ['object Object'] timeout\n",
    "def categorize_error(error):\n",
    "    #     categories = ['null','undefined','404','410','ERR_HTTP_HEADERS_SENT','9000ms']\n",
    "    categories = {\n",
    "       '[object Object]':'[object Object]','undefined':'undefined','404':'404','410':'410','403':'403','ECONNRESET':'ECONNRESET','ERR_HTTP_HEADERS_SENT':'ERR_HTTP_HEADERS_SENT','9000ms':'timeout'       \n",
    "    }\n",
    "    for cat in categories:\n",
    "        if cat in error:\n",
    "            return categories[cat]\n",
    "    return 'other'\n",
    "            \n",
    "df['ERROR_TYPE'] = df['DESC'].apply(categorize_error)"
   ]
  },
  {
   "cell_type": "markdown",
   "metadata": {},
   "source": [
    "*  **Further inspection reveals that some urls are broken with '-' '/-' or '%' values in SEO in between. It will be useful if we categorize these.**"
   ]
  },
  {
   "cell_type": "code",
   "execution_count": null,
   "metadata": {},
   "outputs": [],
   "source": [
    "# Categories to check where we failed in urls\n",
    "# Manually inspecting, i found '-/' '/-/' and cases like\n",
    "df['IS_URL_ERROR'] = df['REQ_URL'].apply(lambda x: '/-/' in x or '-/' in x or '%' in x)"
   ]
  },
  {
   "cell_type": "code",
   "execution_count": null,
   "metadata": {},
   "outputs": [],
   "source": [
    "## Some examples\n",
    "df['REQ_URL'][df['IS_URL_ERROR']].head(5)"
   ]
  },
  {
   "cell_type": "markdown",
   "metadata": {},
   "source": [
    "* **Analysing an error which was frequently occuring. It seems JS was appending this error without giving the actual description, need to analyse how its happening on the urls where it is occuring**"
   ]
  },
  {
   "cell_type": "code",
   "execution_count": null,
   "metadata": {},
   "outputs": [],
   "source": [
    "# Very vague type of error\n",
    "df['DESC'][df['ERROR_TYPE'] == '[object Object]']"
   ]
  },
  {
   "cell_type": "code",
   "execution_count": null,
   "metadata": {
    "scrolled": true
   },
   "outputs": [],
   "source": [
    "# Further inspection reveals that some urls are broken with '-' in between. It will be useful if we categorize these.\n",
    "df['REQ_URL'][df['ERROR_TYPE'] == '[object Object]']"
   ]
  },
  {
   "cell_type": "markdown",
   "metadata": {},
   "source": [
    "* **Following are the amp urls where the url is correctly formed, but still it fails** "
   ]
  },
  {
   "cell_type": "code",
   "execution_count": null,
   "metadata": {},
   "outputs": [],
   "source": [
    "df['REQ_URL'][(df['URL_CATEGORY'] == 'amp') & ~(df['IS_URL_ERROR'])].head(20)"
   ]
  },
  {
   "cell_type": "markdown",
   "metadata": {},
   "source": [
    "### Helper functions for plotting"
   ]
  },
  {
   "cell_type": "markdown",
   "metadata": {},
   "source": [
    "* Pie chart"
   ]
  },
  {
   "cell_type": "code",
   "execution_count": null,
   "metadata": {},
   "outputs": [],
   "source": [
    "def plot_pie_chart(column=\"\",labels=[],title=\"\",percentage_dist=None):\n",
    "    if not column:\n",
    "        return\n",
    "    plt.figure(figsize=(10,8))\n",
    "    if percentage_dist:\n",
    "        column_val_percentage = percentage_dist\n",
    "    else:\n",
    "        column_val_percentage =  df[column].value_counts(normalize=True) * 100\n",
    "    if not labels:\n",
    "        labels = df[column].value_counts().index\n",
    "#     explode=(0,0.1)\n",
    "    plt.pie(column_val_percentage,explode=explode,labels=labels, autopct='%.1f%%', \n",
    "           shadow=False, startangle=0,   \n",
    "           pctdistance=1.2,labeldistance=1.4)\n",
    "    plt.title(title)\n",
    "    plt.show()"
   ]
  },
  {
   "cell_type": "markdown",
   "metadata": {},
   "source": [
    "* Percentage vs count - barchart"
   ]
  },
  {
   "cell_type": "code",
   "execution_count": null,
   "metadata": {},
   "outputs": [],
   "source": [
    "### Helper function to plot charts\n",
    "def plot_percentage_and_count(column='',supertitle='',title_count='',title_percentage='',xlabel='',ylabel_count='COUNT',ylabel_percentage='PERCENTAGE',df=df):\n",
    "    if not column:\n",
    "        return\n",
    "    fig,ax= plt.subplots(1,2,figsize=(16,8))\n",
    "    plt.setp(ax[0].xaxis.get_majorticklabels(), rotation=90)\n",
    "    plt.setp(ax[1].xaxis.get_majorticklabels(), rotation=90)\n",
    "\n",
    "    bp = sns.barplot(data=df,x=column,y=column,orient='v',estimator=lambda x: len(x) / len(df) * 100,ax=ax[0])\n",
    "    for rect in bp.patches:\n",
    "        bp.text (rect.get_x() + rect.get_width() // 2,rect.get_height(),\"%.2f%%\"% rect.get_height(), weight='bold' )\n",
    "    ax[0].set_title(title_percentage)\n",
    "    ax[0].set_xlabel(xlabel)\n",
    "    ax[0].set_ylabel(ylabel_percentage)\n",
    "\n",
    "    ## Error types counts\n",
    "    sns.countplot(df[column],ax=ax[1])\n",
    "    ax[1].set_title(title_count)\n",
    "    ax[1].set_xlabel(xlabel)\n",
    "    ax[1].set_ylabel(ylabel_count)\n",
    "\n",
    "    fig.suptitle(supertitle)\n",
    "\n",
    "    plt.show()"
   ]
  },
  {
   "cell_type": "markdown",
   "metadata": {},
   "source": [
    "* Heat map for pivots / grouped data"
   ]
  },
  {
   "cell_type": "code",
   "execution_count": null,
   "metadata": {},
   "outputs": [],
   "source": [
    "def plot_heat_map(data=None,title=\"\",xlabel=\"\",ylabel=\"\",cmap='Oranges'):\n",
    "    if data is None:\n",
    "        return\n",
    "    plt.figure(figsize=(16,8))\n",
    "    sns.heatmap(data,linewidths=.5,annot=True,cmap=cmap,fmt=\"d\")\n",
    "    plt.title(title)\n",
    "    plt.xlabel(xlabel)\n",
    "    plt.ylabel(ylabel)\n",
    "    plt.show()\n",
    "\n",
    "    "
   ]
  },
  {
   "cell_type": "markdown",
   "metadata": {},
   "source": [
    "## Visualizing the errors"
   ]
  },
  {
   "cell_type": "markdown",
   "metadata": {},
   "source": [
    "### Understanding platform level distribution for errors"
   ]
  },
  {
   "cell_type": "code",
   "execution_count": null,
   "metadata": {},
   "outputs": [],
   "source": [
    "df['PLATFORM'].value_counts(normalize=True) * 100"
   ]
  },
  {
   "cell_type": "code",
   "execution_count": null,
   "metadata": {},
   "outputs": [],
   "source": [
    "# Seeing platform specific\n",
    "# 71 percent of errors are in desktop in this ip while 28 in mobile\n",
    "# Seeing platform specific\n",
    "# 71 percent of errors are in desktop in this ip while 28 in mobile\n",
    "plot_pie_chart(column='PLATFORM',labels=['DESKTOP','MOBILE'],title='PLATFORM WISE ERROR DISTRIBUTIONS')"
   ]
  },
  {
   "cell_type": "markdown",
   "metadata": {},
   "source": [
    "### Identifying where **the url has the problem**"
   ]
  },
  {
   "cell_type": "code",
   "execution_count": null,
   "metadata": {},
   "outputs": [],
   "source": [
    "plot_pie_chart(column='IS_URL_ERROR',labels=['URL DIDNT HAVE ERROR','URL HAD ERROR'],title='URL ERROR DISTRIBUTIONS')\n"
   ]
  },
  {
   "cell_type": "markdown",
   "metadata": {},
   "source": [
    "> Some examples where url was the problem"
   ]
  },
  {
   "cell_type": "code",
   "execution_count": null,
   "metadata": {},
   "outputs": [],
   "source": [
    "df['REQ_URL'][df['IS_URL_ERROR']].head(5)"
   ]
  },
  {
   "cell_type": "markdown",
   "metadata": {},
   "source": [
    "### Further categorizing the url  based  errors on  category of these urls and error types"
   ]
  },
  {
   "cell_type": "code",
   "execution_count": null,
   "metadata": {},
   "outputs": [],
   "source": [
    "url_errors_grouped =  df[df['IS_URL_ERROR']].groupby(['URL_CATEGORY','ERROR_TYPE']).size().unstack(fill_value=0)\n",
    "plot_heat_map(data=url_errors_grouped,title='URL Errors - Page and Error Types',xlabel='Error Type',ylabel='Error Type',cmap='summer')\n"
   ]
  },
  {
   "cell_type": "markdown",
   "metadata": {},
   "source": [
    "> Above heatmap contains all urls with errors, and error types on those urls"
   ]
  },
  {
   "cell_type": "markdown",
   "metadata": {},
   "source": [
    "### Understanding about feed errors wherever they occur"
   ]
  },
  {
   "cell_type": "code",
   "execution_count": null,
   "metadata": {},
   "outputs": [],
   "source": [
    "## Seeing feed errors vs others\n",
    "df[~(df['REQ_FEED'].isnull())].count()[0] / df.shape[0] \n",
    "# 41.8 percent feederrors "
   ]
  },
  {
   "cell_type": "code",
   "execution_count": null,
   "metadata": {},
   "outputs": [],
   "source": [
    "error_types_percentage_feeds = df[(df['ERROR_TYPE'] == '404') | (df['ERROR_TYPE'] == '410') | (df['ERROR_TYPE'] == '403') |  (df['ERROR_TYPE'] == 'timeout')] \n",
    "\n",
    "plot_percentage_and_count(df=error_types_percentage_feeds,column='ERROR_TYPE',xlabel=\"ERROR TYPES\",title_count='TYPES OF ERRORS IN FEEDS - COUNT',title_percentage='TYPES OF ERRORS IN FEEDS - PERCENTAGE',supertitle='FEED TYPE  ERROR COUNTS AND PERCENTAGES')\n",
    "# plot_pie_chart(percentage_dist=error_types_percentage_dist,labels=labels,title=\"FEED ERROR DISTRIBUTIONS\")\n"
   ]
  },
  {
   "cell_type": "markdown",
   "metadata": {},
   "source": [
    "> It seems that **majority of the feed errors are 404s**. However some feed errors are **410 and 403** respectively, which are surprising."
   ]
  },
  {
   "cell_type": "markdown",
   "metadata": {},
   "source": [
    "### Understanding distribution of errors on various templates"
   ]
  },
  {
   "cell_type": "code",
   "execution_count": null,
   "metadata": {},
   "outputs": [],
   "source": [
    "df['URL_CATEGORY'].value_counts()"
   ]
  },
  {
   "cell_type": "markdown",
   "metadata": {},
   "source": [
    "> **Articlelist + timeout issues bifurcation**"
   ]
  },
  {
   "cell_type": "code",
   "execution_count": null,
   "metadata": {},
   "outputs": [],
   "source": [
    "plot_percentage_and_count(column='URL_CATEGORY',xlabel=\"TEMPLATES\",title_count='TEMPLATE ERRORS - COUNT',title_percentage='TEMPLATE ERRORS - PERCENTAGE',supertitle='VARIOUS TEMPLATES ERROR COUNTS AND PERCENTAGES')"
   ]
  },
  {
   "cell_type": "markdown",
   "metadata": {},
   "source": [
    "> It seems that articlelist has the highest number of errors, followed by articleshow,amp and videoshow"
   ]
  },
  {
   "cell_type": "markdown",
   "metadata": {},
   "source": [
    "### Understanding distribution of various error types"
   ]
  },
  {
   "cell_type": "code",
   "execution_count": null,
   "metadata": {},
   "outputs": [],
   "source": [
    "df['ERROR_TYPE'].value_counts()"
   ]
  },
  {
   "cell_type": "code",
   "execution_count": null,
   "metadata": {},
   "outputs": [],
   "source": [
    "plot_percentage_and_count(column='ERROR_TYPE',xlabel=\"ERROR - TYPES\",title_count='TYPES OF ERRORS - COUNT',title_percentage='TYPES OF ERRORS - PERCENTAGE',supertitle='TYPES OF ERRORS COUNTS AND PERCENTAGES')"
   ]
  },
  {
   "cell_type": "markdown",
   "metadata": {},
   "source": [
    "### Error type vs pagetype heatmap"
   ]
  },
  {
   "cell_type": "code",
   "execution_count": null,
   "metadata": {},
   "outputs": [],
   "source": [
    "# Creating what type of templates have what type of errors\n",
    "categories_vs_error_grouped =  df.groupby(['URL_CATEGORY','ERROR_TYPE']).size().unstack(fill_value=0)\n",
    "plot_heat_map(data=categories_vs_error_grouped,title='Error categories vs types',xlabel='Types of errors',ylabel='Page type',cmap='Oranges')"
   ]
  },
  {
   "cell_type": "markdown",
   "metadata": {},
   "source": [
    "### Checking if time plays a factor in errors - Templates and Error Types\n"
   ]
  },
  {
   "cell_type": "code",
   "execution_count": null,
   "metadata": {},
   "outputs": [],
   "source": [
    "# Creating what type of templates have what type of errors\n",
    "\n",
    "time_vs_url_category =  df.groupby(['BINNED_HOURS','URL_CATEGORY']).size().unstack(fill_value=0)\n",
    "\n",
    "plot_heat_map(data=time_vs_url_category,title='Error on Template vs Hour of day',xlabel='Template in which error occurred',ylabel='Hour of day',cmap='Greens')"
   ]
  },
  {
   "cell_type": "code",
   "execution_count": null,
   "metadata": {},
   "outputs": [],
   "source": [
    "# Creating what type of templates have what type of errors\n",
    "categories_vs_error_hour_of_day =  df.groupby(['BINNED_HOURS','ERROR_TYPE']).size().unstack(fill_value=0)\n",
    "plot_heat_map(data=categories_vs_error_hour_of_day,title='Error categories vs Hour of day',xlabel='Types of errors',ylabel='Hour of day',cmap='summer')\n",
    "\n"
   ]
  },
  {
   "cell_type": "markdown",
   "metadata": {},
   "source": [
    "> Improvements\n",
    "\n",
    "* BOT url - classification\n",
    "* ARticlelist 404s - Feed urls / Timeout ratio\n",
    "* Amp pages ampnext / vs cases\n",
    "* '%' url check if correctly parsed"
   ]
  }
 ],
 "metadata": {
  "kernelspec": {
   "display_name": "Python 3",
   "language": "python",
   "name": "python3"
  },
  "language_info": {
   "codemirror_mode": {
    "name": "ipython",
    "version": 3
   },
   "file_extension": ".py",
   "mimetype": "text/x-python",
   "name": "python",
   "nbconvert_exporter": "python",
   "pygments_lexer": "ipython3",
   "version": "3.7.3"
  }
 },
 "nbformat": 4,
 "nbformat_minor": 2
}
