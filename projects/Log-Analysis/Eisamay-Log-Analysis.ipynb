{
 "cells": [
  {
   "cell_type": "code",
   "execution_count": 61,
   "metadata": {},
   "outputs": [],
   "source": [
    "import pandas as pd\n",
    "import numpy as np\n",
    "import seaborn as sns\n",
    "import matplotlib.pyplot as plt\n",
    "pd.set_option('display.max_colwidth', -1)"
   ]
  },
  {
   "cell_type": "code",
   "execution_count": 29,
   "metadata": {},
   "outputs": [],
   "source": [
    "# Reading the log file\n",
    "df = pd.read_csv('lang-error-17-12-2020.csv',index_col=False)"
   ]
  },
  {
   "cell_type": "code",
   "execution_count": 30,
   "metadata": {},
   "outputs": [
    {
     "data": {
      "text/html": [
       "<div>\n",
       "<style scoped>\n",
       "    .dataframe tbody tr th:only-of-type {\n",
       "        vertical-align: middle;\n",
       "    }\n",
       "\n",
       "    .dataframe tbody tr th {\n",
       "        vertical-align: top;\n",
       "    }\n",
       "\n",
       "    .dataframe thead th {\n",
       "        text-align: right;\n",
       "    }\n",
       "</style>\n",
       "<table border=\"1\" class=\"dataframe\">\n",
       "  <thead>\n",
       "    <tr style=\"text-align: right;\">\n",
       "      <th></th>\n",
       "      <th>IP</th>\n",
       "      <th>TIME</th>\n",
       "      <th>PLATFORM</th>\n",
       "      <th>REQ_URL</th>\n",
       "      <th>REQ_FEED</th>\n",
       "      <th>DESC</th>\n",
       "    </tr>\n",
       "  </thead>\n",
       "  <tbody>\n",
       "    <tr>\n",
       "      <th>0</th>\n",
       "      <td>172.29.63.76</td>\n",
       "      <td>17-12-2020 0:0:5</td>\n",
       "      <td>desktop</td>\n",
       "      <td>https://eisamay.indiatimes.com/entertainment/c...</td>\n",
       "      <td>https://eisamay.indiatimes.com/pwafeeds/sc_gad...</td>\n",
       "      <td>Error: Request failed with status code 404</td>\n",
       "    </tr>\n",
       "    <tr>\n",
       "      <th>1</th>\n",
       "      <td>172.29.63.76</td>\n",
       "      <td>17-12-2020 0:0:7</td>\n",
       "      <td>desktop</td>\n",
       "      <td>https://eisamay.indiatimes.com/entertainment/c...</td>\n",
       "      <td>NaN</td>\n",
       "      <td>'Error [ERR_HTTP_HEADERS_SENT]: Cannot set hea...</td>\n",
       "    </tr>\n",
       "    <tr>\n",
       "      <th>2</th>\n",
       "      <td>172.29.63.76</td>\n",
       "      <td>17-12-2020 0:0:8</td>\n",
       "      <td>mobile</td>\n",
       "      <td>https://eisamay.indiatimes.com/west-bengal-new...</td>\n",
       "      <td>https://eisamay.indiatimes.com/pwafeeds/sc_gad...</td>\n",
       "      <td>Error: Request failed with status code 404</td>\n",
       "    </tr>\n",
       "    <tr>\n",
       "      <th>3</th>\n",
       "      <td>172.29.63.76</td>\n",
       "      <td>17-12-2020 0:0:14</td>\n",
       "      <td>mobile</td>\n",
       "      <td>https://eisamay.indiatimes.com/bangla-news-liv...</td>\n",
       "      <td>NaN</td>\n",
       "      <td>'TypeError: Cannot read property 'pagetype' of...</td>\n",
       "    </tr>\n",
       "    <tr>\n",
       "      <th>4</th>\n",
       "      <td>172.29.63.76</td>\n",
       "      <td>17-12-2020 0:0:16</td>\n",
       "      <td>desktop</td>\n",
       "      <td>https://eisamay.indiatimes.com/videos/entertai...</td>\n",
       "      <td>NaN</td>\n",
       "      <td>'TypeError: Cannot read property 'components' ...</td>\n",
       "    </tr>\n",
       "  </tbody>\n",
       "</table>\n",
       "</div>"
      ],
      "text/plain": [
       "             IP               TIME PLATFORM  \\\n",
       "0  172.29.63.76   17-12-2020 0:0:5  desktop   \n",
       "1  172.29.63.76   17-12-2020 0:0:7  desktop   \n",
       "2  172.29.63.76   17-12-2020 0:0:8   mobile   \n",
       "3  172.29.63.76  17-12-2020 0:0:14   mobile   \n",
       "4  172.29.63.76  17-12-2020 0:0:16  desktop   \n",
       "\n",
       "                                             REQ_URL  \\\n",
       "0  https://eisamay.indiatimes.com/entertainment/c...   \n",
       "1  https://eisamay.indiatimes.com/entertainment/c...   \n",
       "2  https://eisamay.indiatimes.com/west-bengal-new...   \n",
       "3  https://eisamay.indiatimes.com/bangla-news-liv...   \n",
       "4  https://eisamay.indiatimes.com/videos/entertai...   \n",
       "\n",
       "                                            REQ_FEED  \\\n",
       "0  https://eisamay.indiatimes.com/pwafeeds/sc_gad...   \n",
       "1                                                NaN   \n",
       "2  https://eisamay.indiatimes.com/pwafeeds/sc_gad...   \n",
       "3                                                NaN   \n",
       "4                                                NaN   \n",
       "\n",
       "                                                DESC  \n",
       "0         Error: Request failed with status code 404  \n",
       "1  'Error [ERR_HTTP_HEADERS_SENT]: Cannot set hea...  \n",
       "2         Error: Request failed with status code 404  \n",
       "3  'TypeError: Cannot read property 'pagetype' of...  \n",
       "4  'TypeError: Cannot read property 'components' ...  "
      ]
     },
     "execution_count": 30,
     "metadata": {},
     "output_type": "execute_result"
    }
   ],
   "source": [
    "# Seeing data\n",
    "df.head()"
   ]
  },
  {
   "cell_type": "code",
   "execution_count": 31,
   "metadata": {},
   "outputs": [
    {
     "data": {
      "text/plain": [
       "desktop    0.712873\n",
       "mobile     0.287127\n",
       "Name: PLATFORM, dtype: float64"
      ]
     },
     "execution_count": 31,
     "metadata": {},
     "output_type": "execute_result"
    }
   ],
   "source": [
    "# Seeing platform specific\n",
    "# 71 percent of errors are in desktop in this ip while 28 in mobile\n",
    "df['PLATFORM'].value_counts(normalize=True)"
   ]
  },
  {
   "cell_type": "code",
   "execution_count": 32,
   "metadata": {},
   "outputs": [
    {
     "data": {
      "text/plain": [
       "0.41832697470679664"
      ]
     },
     "execution_count": 32,
     "metadata": {},
     "output_type": "execute_result"
    }
   ],
   "source": [
    "## Seeing feed errors vs others\n",
    "df[~(df['REQ_FEED'].isnull())].count()[0] / df.shape[0] \n",
    "# 41.8 percent feederrors "
   ]
  },
  {
   "cell_type": "code",
   "execution_count": 33,
   "metadata": {},
   "outputs": [],
   "source": [
    "def categorize_url(url):\n",
    "    templates = ['articleshow','photoshow','photolist','videoshow','articlelist','topics']\n",
    "    for template in templates:\n",
    "        if template in url:\n",
    "            return template\n",
    "    return 'others'\n",
    "df['URL_CATEGORY'] = df['REQ_URL'].apply(categorize_url)\n"
   ]
  },
  {
   "cell_type": "code",
   "execution_count": 34,
   "metadata": {},
   "outputs": [
    {
     "data": {
      "text/plain": [
       "articlelist    6028\n",
       "articleshow    5244\n",
       "videoshow      1511\n",
       "photoshow       737\n",
       "others          499\n",
       "photolist       110\n",
       "topics           25\n",
       "Name: URL_CATEGORY, dtype: int64"
      ]
     },
     "execution_count": 34,
     "metadata": {},
     "output_type": "execute_result"
    }
   ],
   "source": [
    "df['URL_CATEGORY'].value_counts()"
   ]
  },
  {
   "cell_type": "code",
   "execution_count": 56,
   "metadata": {},
   "outputs": [],
   "source": [
    "# How i found the categories:\n",
    "# First inspected the df, found 404 and undefined, started with these as a base along with null\n",
    "# Characterized others as \"others\" manually inspected others one by one and\n",
    "# found: 410 ,403, ['object Object'] timeout\n",
    "def categorize_error(error):\n",
    "    #     categories = ['null','undefined','404','410','ERR_HTTP_HEADERS_SENT','9000ms']\n",
    "    categories = {\n",
    "       '[object Object]':'[object Object]','undefined':'undefined','404':'404','410':'410','ECONNRESET':'ECONNRESET','ERR_HTTP_HEADERS_SENT':'ERR_HTTP_HEADERS_SENT','9000ms':'timeout'       \n",
    "    }\n",
    "    for cat in categories:\n",
    "        if cat in error:\n",
    "            return categories[cat]\n",
    "    return 'other'\n",
    "            \n",
    "df['ERROR_TYPE'] = df['DESC'].apply(categorize_error)"
   ]
  },
  {
   "cell_type": "code",
   "execution_count": 57,
   "metadata": {},
   "outputs": [
    {
     "data": {
      "text/plain": [
       "ERR_HTTP_HEADERS_SENT    6417\n",
       "404                      5738\n",
       "undefined                1713\n",
       "410                       129\n",
       "[object Object]           100\n",
       "other                      27\n",
       "timeout                    25\n",
       "ECONNRESET                  5\n",
       "Name: ERROR_TYPE, dtype: int64"
      ]
     },
     "execution_count": 57,
     "metadata": {},
     "output_type": "execute_result"
    }
   ],
   "source": [
    "df['ERROR_TYPE'].value_counts()"
   ]
  },
  {
   "cell_type": "code",
   "execution_count": 58,
   "metadata": {},
   "outputs": [
    {
     "data": {
      "text/plain": [
       "107      '[object Object]'\n",
       "112      '[object Object]'\n",
       "119      '[object Object]'\n",
       "125      '[object Object]'\n",
       "181      '[object Object]'\n",
       "336      '[object Object]'\n",
       "663      '[object Object]'\n",
       "700      '[object Object]'\n",
       "932      '[object Object]'\n",
       "933      '[object Object]'\n",
       "946      '[object Object]'\n",
       "979      '[object Object]'\n",
       "1329     '[object Object]'\n",
       "1332     '[object Object]'\n",
       "1381     '[object Object]'\n",
       "1385     '[object Object]'\n",
       "1829     '[object Object]'\n",
       "1901     '[object Object]'\n",
       "2035     '[object Object]'\n",
       "2039     '[object Object]'\n",
       "2049     '[object Object]'\n",
       "2050     '[object Object]'\n",
       "2052     '[object Object]'\n",
       "2053     '[object Object]'\n",
       "2111     '[object Object]'\n",
       "2171     '[object Object]'\n",
       "2228     '[object Object]'\n",
       "2422     '[object Object]'\n",
       "2423     '[object Object]'\n",
       "2425     '[object Object]'\n",
       "               ...        \n",
       "10467    '[object Object]'\n",
       "10683    '[object Object]'\n",
       "10685    '[object Object]'\n",
       "10693    '[object Object]'\n",
       "10720    '[object Object]'\n",
       "10743    '[object Object]'\n",
       "10817    '[object Object]'\n",
       "11090    '[object Object]'\n",
       "11093    '[object Object]'\n",
       "11095    '[object Object]'\n",
       "11365    '[object Object]'\n",
       "11654    '[object Object]'\n",
       "11662    '[object Object]'\n",
       "11942    '[object Object]'\n",
       "12478    '[object Object]'\n",
       "12789    '[object Object]'\n",
       "12943    '[object Object]'\n",
       "12970    '[object Object]'\n",
       "12971    '[object Object]'\n",
       "13122    '[object Object]'\n",
       "13433    '[object Object]'\n",
       "13463    '[object Object]'\n",
       "13465    '[object Object]'\n",
       "13476    '[object Object]'\n",
       "13477    '[object Object]'\n",
       "13479    '[object Object]'\n",
       "13480    '[object Object]'\n",
       "13481    '[object Object]'\n",
       "13484    '[object Object]'\n",
       "14102    '[object Object]'\n",
       "Name: DESC, Length: 100, dtype: object"
      ]
     },
     "execution_count": 58,
     "metadata": {},
     "output_type": "execute_result"
    }
   ],
   "source": [
    "# Very vague type of error\n",
    "df['DESC'][df['ERROR_TYPE'] == '[object Object]']"
   ]
  },
  {
   "cell_type": "code",
   "execution_count": 68,
   "metadata": {},
   "outputs": [
    {
     "data": {
      "text/plain": [
       "107      https://eisamay.indiatimes.com/nation/army-officer-shot-dead-by-jawan-in-uri-sector-in-jammu-and-kashmir/-/jawan/photoshow/59645394.cms                                                                                                                                                  \n",
       "112      https://eisamay.indiatimes.com/business/business-news/jana-small-finance-bank-provides-9-6-interest-rate-on-fixed-deposit/photoshow/68437855.cms                                                                                                                                         \n",
       "119      https://eisamay.indiatimes.com/lifestyle/health-fitness/6-proven-health-benefits-of-dates/photoshow/68343345.cms                                                                                                                                                                         \n",
       "125      https://eisamay.indiatimes.com/business/business-news/jana-small-finance-bank-provides-9-6-interest-rate-on-fixed-deposit/fd/photoshow/68437855.cms                                                                                                                                      \n",
       "181      https://eisamay.indiatimes.com/bangla-news-live/-/photoshow/63640911.cms                                                                                                                                                                                                                 \n",
       "336      https://eisamay.indiatimes.com/bangla-news-live/-/articleshow/72083031.cms?utm_campaign=article5&utm_medium=referral&utm_source=stickywidget                                                                                                                                             \n",
       "663      https://eisamay.indiatimes.com/astrology/daily-horoscope/today-horoscope-of-17-december-2020-rashi-bhavishya-in-bengali/-/photoshow/79760625.cms                                                                                                                                         \n",
       "700      https://eisamay.indiatimes.com/astrology/daily-horoscope/today-horoscope-of-17-december-2020-rashi-bhavishya-in-bengali/-/photoshow/79760640.cms                                                                                                                                         \n",
       "932      https://eisamay.indiatimes.com/bangla-news-live/-/articleshow/66631959.cms?utm_campaign=article4&utm_medium=referral&utm_source=stickywidget                                                                                                                                             \n",
       "933      https://eisamay.indiatimes.com/bangla-news-live/-/photoshow/66631959.cms?utm_campaign=article4&utm_medium=referral&utm_source=stickywidget                                                                                                                                               \n",
       "946      https://eisamay.indiatimes.com/astrology/daily-horoscope/today-horoscope-of-17-december-2020-rashi-bhavishya-in-bengali/-/photoshow/79760668.cms                                                                                                                                         \n",
       "979      https://eisamay.indiatimes.com/astrology/daily-horoscope/today-horoscope-of-17-december-2020-rashi-bhavishya-in-bengali/-/photoshow/79760622.cms                                                                                                                                         \n",
       "1329     https://eisamay.indiatimes.com/astrology/daily-horoscope/today-horoscope-of-17-december-2020-rashi-bhavishya-in-bengali/photoshow/79760622.cms                                                                                                                                           \n",
       "1332     https://eisamay.indiatimes.com/astrology/daily-horoscope/today-horoscope-of-17-december-2020-rashi-bhavishya-in-bengali/-/photoshow/79760622.cms                                                                                                                                         \n",
       "1381     https://eisamay.indiatimes.com/sports/cricket/iplt20/news/kolkata-knight-riders-begin-practice-ahead-of-ipl/photoshow/63381247.cms                                                                                                                                                       \n",
       "1385     https://eisamay.indiatimes.com/astrology/horoscope-special/how-your-birth-date-from-26-to-31-reveals-the-plan-for-your-life/28/photoshow/50234095.cms                                                                                                                                    \n",
       "1829     https://eisamay.indiatimes.com/bangla-news-live/-ani/photoshow/63733419.cms                                                                                                                                                                                                              \n",
       "1901     https://eisamay.indiatimes.com/%E0%A6%B8%E0%A6%BF-%E0%A6%96-%E0%A6%99%E0%A6%97/santoshpur-lake-pally-puja-/photoshow/23049279.cms                                                                                                                                                        \n",
       "2035     https://eisamay.indiatimes.com/entertainment/wonder-woman/ex-miss-uruguay-found-dead-in-mexico-city-hotel/-/photoshow/69186931.cms                                                                                                                                                       \n",
       "2039     https://eisamay.indiatimes.com/chinese-lunar-new-year-parades-and-celebrations/photoshow/63155729.cms                                                                                                                                                                                    \n",
       "2049     https://eisamay.indiatimes.com/astrology/daily-horoscope/today-horoscope-of-17-december-2020-rashi-bhavishya-in-bengali/articleshow/79760630.cms                                                                                                                                         \n",
       "2050     https://eisamay.indiatimes.com/astrology/daily-horoscope/today-horoscope-of-17-december-2020-rashi-bhavishya-in-bengali/photoshow/79760630.cms                                                                                                                                           \n",
       "2052     https://eisamay.indiatimes.com/astrology/daily-horoscope/today-horoscope-of-17-december-2020-rashi-bhavishya-in-bengali/-/photoshow/79760644.cms                                                                                                                                         \n",
       "2053     https://eisamay.indiatimes.com/astrology/daily-horoscope/today-horoscope-of-17-december-2020-rashi-bhavishya-in-bengali/-/photoshow/79760630.cms                                                                                                                                         \n",
       "2111     https://eisamay.indiatimes.com/astrology/daily-horoscope/today-horoscope-of-17-december-2020-rashi-bhavishya-in-bengali/amp_articleshow/79760630.cms                                                                                                                                     \n",
       "2171     https://eisamay.indiatimes.com/bangla-news-live/covid-/photoshow/75222590.cms                                                                                                                                                                                                            \n",
       "2228     https://eisamay.indiatimes.com/lifestyle/food/recipe-bloggers-madhushree-and-debjani-host-a-celebration-of-bengali-food-at-chilekotha/photoshow/70242171.cms                                                                                                                             \n",
       "2422     https://eisamay.indiatimes.com/astrology/daily-horoscope/today-horoscope-of-17-december-2020-rashi-bhavishya-in-bengali/articleshow/79760644.cms                                                                                                                                         \n",
       "2423     https://eisamay.indiatimes.com/astrology/daily-horoscope/today-horoscope-of-17-december-2020-rashi-bhavishya-in-bengali/photoshow/79760644.cms                                                                                                                                           \n",
       "2425     https://eisamay.indiatimes.com/astrology/daily-horoscope/today-horoscope-of-17-december-2020-rashi-bhavishya-in-bengali/photoshow/79760630.cms                                                                                                                                           \n",
       "                                                                              ...                                                                                                                                                                                                                 \n",
       "10467    https://eisamay.indiatimes.com/west-bengal-news/bardhaman-news/police-has-taken-major-initiative-to-fight-against-rumor/police/photoshow/68111138.cms                                                                                                                                    \n",
       "10683    https://eisamay.indiatimes.com/entertainment/film-review/mukherjee-dar-bou-bengali-film-review/photoshow/68333607.cms                                                                                                                                                                    \n",
       "10685    https://eisamay.indiatimes.com/nation/prez-poll-celebrations-start-in-ram-nath-kovinds-village/-/5/photoshow/59732271.cms                                                                                                                                                                \n",
       "10693    https://eisamay.indiatimes.com/astrology/daily-horoscope/horoscope-special/daily-astrology-prediction-22-july-2019/photoshow/70325649.cms                                                                                                                                                \n",
       "10720    https://eisamay.indiatimes.com/bangla-news-live/-/photoshow/64108031.cms?utm_campaign=article2&utm_medium=referral&utm_source=stickywidget                                                                                                                                               \n",
       "10743    https://eisamay.indiatimes.com/minor-girl-raped-by-step-father-at-hindmotor-hooghly/moviereview/72042504.cms                                                                                                                                                                             \n",
       "10817    https://eisamay.indiatimes.com/meet-oksana-neveselaya-the-worlds-hottest-math-teacher/photoshow/64357488.cms                                                                                                                                                                             \n",
       "11090    https://eisamay.indiatimes.com/topics/sexy/https/eisamay-indiatimes-com/entertainment/tv-news/from-the-set-of-mega-serial-nojor-intersting-twists-and-turns-in-the-events-of-ayushs-life-tina-is-not-a-debkonya-rather-she-is-a-daini/amp_articleshow/68616809-cms/photoshow/72183957.cms\n",
       "11093    https://eisamay.indiatimes.com/topics/sexy/https/eisamay-indiatimes-com/entertainment/tv-news/from-the-set-of-mega-serial-nojor-intersting-twists-and-turns-in-the-events-of-ayushs-life-tina-is-not-a-debkonya-rather-she-is-a-daini/amp_articleshow/68616809-cms/photoshow/72183957.cms\n",
       "11095    https://eisamay.indiatimes.com/https/eisamay-indiatimes-com/entertainment/tv-news/from-the-set-of-mega-serial-nojor-intersting-twists-and-turns-in-the-events-of-ayushs-life-tina-is-not-a-debkonya-rather-she-is-a-daini/articleshow/68616809-cms/27vaanikapoor2/photoshow/72183957.cms \n",
       "11365    https://eisamay.indiatimes.com/sports/cricket/news/mumbai-indians-to-take-on-chennai-super-kings-in-ipl-2018-opener/ipl-2018-/photoshow/62922628.cms                                                                                                                                     \n",
       "11654    https://eisamay.indiatimes.com/astrology/daily-horoscope/today-astrology-18-december-2020-daily-horoscope-in-bengali/-/photoshow/79779683.cms                                                                                                                                            \n",
       "11662    https://eisamay.indiatimes.com/astrology/daily-horoscope/today-astrology-18-december-2020-daily-horoscope-in-bengali/-/photoshow/79779711.cms                                                                                                                                            \n",
       "11942    https://eisamay.indiatimes.com/business/business-news/nandan-nilekani-appointed-by-rbi-as-a-chairman-of-high-level-committee-on-digital-payments/photoshow/67439575.cms                                                                                                                  \n",
       "12478    https://eisamay.indiatimes.com/astrology/daily-horoscope/today-astrology-18-december-2020-daily-horoscope-in-bengali/amp_articleshow/79779711.cms                                                                                                                                        \n",
       "12789    https://eisamay.indiatimes.com/bangla-news-live/-/photoshow/66360665.cms?utm_campaign=article2&utm_medium=referral&utm_source=stickywidget                                                                                                                                               \n",
       "12943    https://eisamay.indiatimes.com/lifestyle/food/emami-healthy-tasty-launches-mantra-spices/-/photoshow/70777632.cms                                                                                                                                                                        \n",
       "12970    https://eisamay.indiatimes.com/lifestyle/food/emami-healthy-tasty-launches-mantra-spices/articleshow/70777632.cms                                                                                                                                                                        \n",
       "12971    https://eisamay.indiatimes.com/lifestyle/food/emami-healthy-tasty-launches-mantra-spices/photoshow/70777632.cms                                                                                                                                                                          \n",
       "13122    https://eisamay.indiatimes.com/bangla-news-live/-/photoshow/66360665.cms                                                                                                                                                                                                                 \n",
       "13433    https://eisamay.indiatimes.com/photoshow/79779783.cms                                                                                                                                                                                                                                    \n",
       "13463    https://eisamay.indiatimes.com/photoshow/79779683.cms                                                                                                                                                                                                                                    \n",
       "13465    https://eisamay.indiatimes.com/lifestyle/health-fitness/hot-or-cold-milk-which-one-is-nutritious-and-healthful/photoshow/68021949.cms                                                                                                                                                    \n",
       "13476    https://eisamay.indiatimes.com/astrology/daily-horoscope/today-astrology-18-december-2020-daily-horoscope-in-bengali/-/photoshow/79779771.cms                                                                                                                                            \n",
       "13477    https://eisamay.indiatimes.com/photoshow/79779711.cms                                                                                                                                                                                                                                    \n",
       "13479    https://eisamay.indiatimes.com/photoshow/79779667.cms                                                                                                                                                                                                                                    \n",
       "13480    https://eisamay.indiatimes.com/astrology/daily-horoscope/today-astrology-18-december-2020-daily-horoscope-in-bengali/-/photoshow/79779761.cms                                                                                                                                            \n",
       "13481    https://eisamay.indiatimes.com/astrology/daily-horoscope/today-astrology-18-december-2020-daily-horoscope-in-bengali/-/photoshow/79779667.cms                                                                                                                                            \n",
       "13484    https://eisamay.indiatimes.com/-/photoshow/52464842.cms?utm_campaign=article4&utm_medium=referral&utm_source=stickywidget                                                                                                                                                                \n",
       "14102    https://eisamay.indiatimes.com/bangla-news-live/-/photoshow/67814600.cms?utm_campaign=article4&utm_medium=referral&utm_source=stickywidget                                                                                                                                               \n",
       "Name: REQ_URL, Length: 100, dtype: object"
      ]
     },
     "execution_count": 68,
     "metadata": {},
     "output_type": "execute_result"
    }
   ],
   "source": [
    "# Further inspection reveals that some urls are broken with '-' in between. It will be useful if we categorize these.\n",
    "df['REQ_URL'][df['ERROR_TYPE'] == '[object Object]']"
   ]
  },
  {
   "cell_type": "code",
   "execution_count": 65,
   "metadata": {},
   "outputs": [],
   "source": [
    "# Categories to check where we failed in urls\n",
    "# Manually inspecting, i found '-/' '/-/' and cases like\n",
    "df['IS_URL_ERROR'] = df['REQ_URL'].apply(lambda x: '/-/' in x or '-/' in x)"
   ]
  },
  {
   "cell_type": "code",
   "execution_count": 66,
   "metadata": {},
   "outputs": [
    {
     "data": {
      "text/plain": [
       "False    12643\n",
       "True     1511 \n",
       "Name: IS_URL_ERROR, dtype: int64"
      ]
     },
     "execution_count": 66,
     "metadata": {},
     "output_type": "execute_result"
    }
   ],
   "source": [
    "df['IS_URL_ERROR'].value_counts()"
   ]
  }
 ],
 "metadata": {
  "kernelspec": {
   "display_name": "Python 3",
   "language": "python",
   "name": "python3"
  },
  "language_info": {
   "codemirror_mode": {
    "name": "ipython",
    "version": 3
   },
   "file_extension": ".py",
   "mimetype": "text/x-python",
   "name": "python",
   "nbconvert_exporter": "python",
   "pygments_lexer": "ipython3",
   "version": "3.7.3"
  }
 },
 "nbformat": 4,
 "nbformat_minor": 2
}
