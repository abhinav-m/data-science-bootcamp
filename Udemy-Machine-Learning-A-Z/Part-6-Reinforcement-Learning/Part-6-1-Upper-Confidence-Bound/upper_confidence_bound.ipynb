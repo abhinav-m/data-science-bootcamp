{
  "nbformat": 4,
  "nbformat_minor": 0,
  "metadata": {
    "colab": {
      "name": "upper_confidence_bound.ipynb",
      "provenance": [],
      "collapsed_sections": [],
      "toc_visible": true,
      "include_colab_link": true
    },
    "kernelspec": {
      "name": "python3",
      "display_name": "Python 3"
    }
  },
  "cells": [
    {
      "cell_type": "markdown",
      "metadata": {
        "id": "view-in-github",
        "colab_type": "text"
      },
      "source": [
        "<a href=\"https://colab.research.google.com/github/abhinav-m/data-science-bootcamp/blob/master/Udemy-Machine-Learning-A-Z/Part-6-Reinforcement-Learning/Part-6-1-Upper-Confidence-Bound/upper_confidence_bound.ipynb\" target=\"_parent\"><img src=\"https://colab.research.google.com/assets/colab-badge.svg\" alt=\"Open In Colab\"/></a>"
      ]
    },
    {
      "cell_type": "markdown",
      "metadata": {
        "id": "QJdrJJQUv3-k",
        "colab_type": "text"
      },
      "source": [
        "# Upper Confidence Bound (UCB)"
      ]
    },
    {
      "cell_type": "markdown",
      "metadata": {
        "id": "2XCjepjJwEv-",
        "colab_type": "text"
      },
      "source": [
        "## Importing the libraries"
      ]
    },
    {
      "cell_type": "code",
      "metadata": {
        "id": "fR4xd6951mCJ",
        "colab_type": "code",
        "colab": {}
      },
      "source": [
        "import matplotlib.pyplot as plt\n",
        "import pandas as pd\n",
        "import numpy as np\n"
      ],
      "execution_count": 16,
      "outputs": []
    },
    {
      "cell_type": "markdown",
      "metadata": {
        "id": "npqlXjaNwYTv",
        "colab_type": "text"
      },
      "source": [
        "## Importing the dataset"
      ]
    },
    {
      "cell_type": "code",
      "metadata": {
        "id": "x9kcLANU1s5r",
        "colab_type": "code",
        "colab": {}
      },
      "source": [
        "dataset = pd.read_csv('Ads_CTR_Optimisation.csv')"
      ],
      "execution_count": 17,
      "outputs": []
    },
    {
      "cell_type": "markdown",
      "metadata": {
        "id": "PaSbots_wfoB",
        "colab_type": "text"
      },
      "source": [
        "## Implementing UCB"
      ]
    },
    {
      "cell_type": "code",
      "metadata": {
        "id": "o6JYRnn13SqJ",
        "colab_type": "code",
        "colab": {}
      },
      "source": [
        "import math\n",
        "# Number of users / Rounds to run\n",
        "N = 1000\n",
        "# Number of ads\n",
        "d = 10\n",
        "# Ads selected over round\n",
        "ads_selected = []\n",
        "# Number of times each ad was selected\n",
        "number_of_selections = [0] * d\n",
        "# Sums of rewards upto round n\n",
        "sum_of_rewards = [0] * d\n",
        "# Total reward accumulated\n",
        "total_reward = 0\n",
        "\n",
        "for n in range(0,N):\n",
        "  # Initialising ad as 0\n",
        "  ad = 0\n",
        "  # Maximum UCB so far\n",
        "  max_upper_bound = 0\n",
        "  for i in range(0,d):\n",
        "    # Calculating average reward for current ad\n",
        "    if (number_of_selections[i] > 0):\n",
        "      average_reward = sum_of_rewards[i] / number_of_selections[i]\n",
        "      delta_i = math.sqrt(3/2 * math.log(n + 1 ) / number_of_selections[i])\n",
        "      upper_bound = average_reward + delta_i\n",
        "    else:\n",
        "      # Setting max upper bound if ad was not selected yet\n",
        "      upper_bound  = 1e400\n",
        "    if (upper_bound > max_upper_bound):\n",
        "      max_upper_bound = upper_bound\n",
        "      ad = i\n",
        "  ads_selected.append(ad)\n",
        "  number_of_selections[ad] += 1\n",
        "  # Reward by user n , of ad \n",
        "  reward = dataset.values[n,ad]\n",
        "  sum_of_rewards[ad] += reward\n",
        "  total_reward = total_reward + reward\n",
        "    \n",
        "    "
      ],
      "execution_count": 18,
      "outputs": []
    },
    {
      "cell_type": "markdown",
      "metadata": {
        "id": "AXftWcjDwsYj",
        "colab_type": "text"
      },
      "source": [
        "## Visualising the results"
      ]
    },
    {
      "cell_type": "code",
      "metadata": {
        "id": "qicVao1j4MIR",
        "colab_type": "code",
        "colab": {
          "base_uri": "https://localhost:8080/",
          "height": 295
        },
        "outputId": "46f4eb6d-a0a9-439b-c281-3a2f0ce67885"
      },
      "source": [
        "plt.hist(ads_selected)\n",
        "plt.title('Histogram of ad selections')\n",
        "plt.xlabel('Ads')\n",
        "plt.ylabel('Number of times each ad was selected')\n",
        "plt.show()"
      ],
      "execution_count": 19,
      "outputs": [
        {
          "output_type": "display_data",
          "data": {
            "image/png": "[encoded data removed]",
            "text/plain": [
              "<Figure size 432x288 with 1 Axes>"
            ]
          },
          "metadata": {
            "tags": [],
            "needs_background": "light"
          }
        }
      ]
    }
  ]
}