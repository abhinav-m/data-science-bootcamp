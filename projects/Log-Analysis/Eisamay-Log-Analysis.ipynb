{
 "cells": [
  {
   "cell_type": "code",
   "execution_count": 57,
   "metadata": {},
   "outputs": [],
   "source": [
    "import pandas as pd\n",
    "import numpy as np\n",
    "import seaborn as sns\n",
    "import matplotlib.pyplot as plt\n",
    "# pd.set_option('display.max_colwidth', None)"
   ]
  },
  {
   "cell_type": "code",
   "execution_count": 58,
   "metadata": {},
   "outputs": [],
   "source": [
    "# Reading the log file\n",
    "df = pd.read_csv('combined_error_log.csv',index_col=False)"
   ]
  },
  {
   "cell_type": "code",
   "execution_count": 59,
   "metadata": {},
   "outputs": [
    {
     "data": {
      "text/html": [
       "<div>\n",
       "<style scoped>\n",
       "    .dataframe tbody tr th:only-of-type {\n",
       "        vertical-align: middle;\n",
       "    }\n",
       "\n",
       "    .dataframe tbody tr th {\n",
       "        vertical-align: top;\n",
       "    }\n",
       "\n",
       "    .dataframe thead th {\n",
       "        text-align: right;\n",
       "    }\n",
       "</style>\n",
       "<table border=\"1\" class=\"dataframe\">\n",
       "  <thead>\n",
       "    <tr style=\"text-align: right;\">\n",
       "      <th></th>\n",
       "      <th>IP</th>\n",
       "      <th>TIME</th>\n",
       "      <th>PLATFORM</th>\n",
       "      <th>REQ_URL</th>\n",
       "      <th>REQ_FEED</th>\n",
       "      <th>DESC</th>\n",
       "    </tr>\n",
       "  </thead>\n",
       "  <tbody>\n",
       "    <tr>\n",
       "      <th>0</th>\n",
       "      <td>172.29.63.76</td>\n",
       "      <td>17-12-2020 0:0:5</td>\n",
       "      <td>desktop</td>\n",
       "      <td>https://eisamay.indiatimes.com/entertainment/cinema/articlelist/51012377.cms</td>\n",
       "      <td>https://eisamay.indiatimes.com/pwafeeds/sc_gadgetlist.cms?category=mobile&amp;feedtype=sjson&amp;pagetype=widget&amp;perpage=10&amp;sort=latest</td>\n",
       "      <td>Error: Request failed with status code 404</td>\n",
       "    </tr>\n",
       "    <tr>\n",
       "      <th>1</th>\n",
       "      <td>172.29.63.76</td>\n",
       "      <td>17-12-2020 0:0:7</td>\n",
       "      <td>desktop</td>\n",
       "      <td>https://eisamay.indiatimes.com/entertainment/cinema/articlelist/51012377.cms</td>\n",
       "      <td>NaN</td>\n",
       "      <td>'Error [ERR_HTTP_HEADERS_SENT]: Cannot set headers after they are sent to the clientat ServerResponse.setHeader (_http_outgoing.js:481:11)at y (/opt/deployment/production/eisweb_63/dist/server.js:1:1085991)at Object.&lt;anonymous&gt; (/opt/deployment/production/eisweb_63/dist/server.js:1:1090471)at tryCatch (/opt/deployment/production/eisweb_63/node_modules/regenerator-runtime/runtime.js:65:40)at Generator.invoke [as _invoke] (/opt/deployment/production/eisweb_63/node_modules/regenerator-runtime/runtime.js:303:22)at Generator.prototype.(anonymous function) [as next] (/opt/deployment/production/eisweb_63/node_modules/regenerator-runtime/runtime.js:117:21)at n (/opt/deployment/production/eisweb_63/dist/server.js:1:1080407)at /opt/deployment/production/eisweb_63/dist/server.js:1:1080553at new Promise (/opt/deployment/production/eisweb_63/node_modules/core-js/modules/es6.promise.js:177:7)at /opt/deployment/production/eisweb_63/dist/server.js:1:1080351'</td>\n",
       "    </tr>\n",
       "    <tr>\n",
       "      <th>2</th>\n",
       "      <td>172.29.63.76</td>\n",
       "      <td>17-12-2020 0:0:8</td>\n",
       "      <td>mobile</td>\n",
       "      <td>https://eisamay.indiatimes.com/west-bengal-news/24pargana-news/articlelist/49780592.cms</td>\n",
       "      <td>https://eisamay.indiatimes.com/pwafeeds/sc_gadgetlist.cms?category=mobile&amp;feedtype=sjson&amp;pagetype=widget&amp;perpage=10&amp;sort=latest</td>\n",
       "      <td>Error: Request failed with status code 404</td>\n",
       "    </tr>\n",
       "    <tr>\n",
       "      <th>3</th>\n",
       "      <td>172.29.63.76</td>\n",
       "      <td>17-12-2020 0:0:14</td>\n",
       "      <td>mobile</td>\n",
       "      <td>https://eisamay.indiatimes.com/bangla-news-live/-/amp_articleshow/63640426.cms</td>\n",
       "      <td>NaN</td>\n",
       "      <td>'TypeError: Cannot read property 'pagetype' of undefinedat t.value (/opt/deployment/production/eismweb_79/dist/server.js:1:182185)at /opt/deployment/production/eismweb_79/dist/server.js:1:440852at O (/opt/deployment/production/eismweb_79/dist/server.js:1:441056)at e.t.render (/opt/deployment/production/eismweb_79/dist/server.js:1:450327)at e.t.read (/opt/deployment/production/eismweb_79/dist/server.js:1:449906)at renderToString (/opt/deployment/production/eismweb_79/dist/server.js:1:455097)at w (/opt/deployment/production/eismweb_79/dist/server.js:1:1243482)at Object.&lt;anonymous&gt; (/opt/deployment/production/eismweb_79/dist/server.js:1:1247299)at tryCatch (/opt/deployment/production/eismweb_79/node_modules/regenerator-runtime/runtime.js:65:40)at Generator.invoke [as _invoke] (/opt/deployment/production/eismweb_79/node_modules/regenerator-runtime/runtime.js:303:22)'</td>\n",
       "    </tr>\n",
       "    <tr>\n",
       "      <th>4</th>\n",
       "      <td>172.29.63.76</td>\n",
       "      <td>17-12-2020 0:0:16</td>\n",
       "      <td>desktop</td>\n",
       "      <td>https://eisamay.indiatimes.com/videos/entertainment/vidyas-kahaani-2-to-clash-with-srk-alias-dear-zindagi-now/videoshow/54488137.cms/feeds/vod_player.cms?autoplay=0&amp;dim=0&amp;msid=54488137&amp;source=article&amp;userInitiated=1&amp;videosection=article-show</td>\n",
       "      <td>NaN</td>\n",
       "      <td>'TypeError: Cannot read property 'components' of undefinedat c (/opt/deployment/production/eisweb_63/dist/server.js:1:1081152)at /opt/deployment/production/eisweb_63/dist/server.js:1:1089765at /opt/deployment/production/eisweb_63/node_modules/react-router/lib/match.js:67:5at /opt/deployment/production/eisweb_63/node_modules/react-router/lib/createTransitionManager.js:72:11at next (/opt/deployment/production/eisweb_63/node_modules/react-router/lib/AsyncUtils.js:52:7)at loopAsync (/opt/deployment/production/eisweb_63/node_modules/react-router/lib/AsyncUtils.js:56:3)at matchRoutes (/opt/deployment/production/eisweb_63/node_modules/react-router/lib/matchRoutes.js:245:29)at Object.match (/opt/deployment/production/eisweb_63/node_modules/react-router/lib/createTransitionManager.js:66:33)at match (/opt/deployment/production/eisweb_63/node_modules/react-router/lib/match.js:56:21)at /opt/deployment/production/eisweb_63/dist/server.js:1:1089641'</td>\n",
       "    </tr>\n",
       "  </tbody>\n",
       "</table>\n",
       "</div>"
      ],
      "text/plain": [
       "             IP               TIME PLATFORM  \\\n",
       "0  172.29.63.76   17-12-2020 0:0:5  desktop   \n",
       "1  172.29.63.76   17-12-2020 0:0:7  desktop   \n",
       "2  172.29.63.76   17-12-2020 0:0:8   mobile   \n",
       "3  172.29.63.76  17-12-2020 0:0:14   mobile   \n",
       "4  172.29.63.76  17-12-2020 0:0:16  desktop   \n",
       "\n",
       "                                                                                                                                                                                                                                             REQ_URL  \\\n",
       "0                                                                                                                                                                       https://eisamay.indiatimes.com/entertainment/cinema/articlelist/51012377.cms   \n",
       "1                                                                                                                                                                       https://eisamay.indiatimes.com/entertainment/cinema/articlelist/51012377.cms   \n",
       "2                                                                                                                                                            https://eisamay.indiatimes.com/west-bengal-news/24pargana-news/articlelist/49780592.cms   \n",
       "3                                                                                                                                                                     https://eisamay.indiatimes.com/bangla-news-live/-/amp_articleshow/63640426.cms   \n",
       "4  https://eisamay.indiatimes.com/videos/entertainment/vidyas-kahaani-2-to-clash-with-srk-alias-dear-zindagi-now/videoshow/54488137.cms/feeds/vod_player.cms?autoplay=0&dim=0&msid=54488137&source=article&userInitiated=1&videosection=article-show   \n",
       "\n",
       "                                                                                                                          REQ_FEED  \\\n",
       "0  https://eisamay.indiatimes.com/pwafeeds/sc_gadgetlist.cms?category=mobile&feedtype=sjson&pagetype=widget&perpage=10&sort=latest   \n",
       "1                                                                                                                              NaN   \n",
       "2  https://eisamay.indiatimes.com/pwafeeds/sc_gadgetlist.cms?category=mobile&feedtype=sjson&pagetype=widget&perpage=10&sort=latest   \n",
       "3                                                                                                                              NaN   \n",
       "4                                                                                                                              NaN   \n",
       "\n",
       "                                                                                                                                                                                                                                                                                                                                                                                                                                                                                                                                                                                                                                                                                                                                                                                                                                                                                                                                                                                           DESC  \n",
       "0                                                                                                                                                                                                                                                                                                                                                                                                                                                                                                                                                                                                                                                                                                                                                                                                                                                                                                                                                    Error: Request failed with status code 404  \n",
       "1  'Error [ERR_HTTP_HEADERS_SENT]: Cannot set headers after they are sent to the clientat ServerResponse.setHeader (_http_outgoing.js:481:11)at y (/opt/deployment/production/eisweb_63/dist/server.js:1:1085991)at Object.<anonymous> (/opt/deployment/production/eisweb_63/dist/server.js:1:1090471)at tryCatch (/opt/deployment/production/eisweb_63/node_modules/regenerator-runtime/runtime.js:65:40)at Generator.invoke [as _invoke] (/opt/deployment/production/eisweb_63/node_modules/regenerator-runtime/runtime.js:303:22)at Generator.prototype.(anonymous function) [as next] (/opt/deployment/production/eisweb_63/node_modules/regenerator-runtime/runtime.js:117:21)at n (/opt/deployment/production/eisweb_63/dist/server.js:1:1080407)at /opt/deployment/production/eisweb_63/dist/server.js:1:1080553at new Promise (/opt/deployment/production/eisweb_63/node_modules/core-js/modules/es6.promise.js:177:7)at /opt/deployment/production/eisweb_63/dist/server.js:1:1080351'  \n",
       "2                                                                                                                                                                                                                                                                                                                                                                                                                                                                                                                                                                                                                                                                                                                                                                                                                                                                                                                                                    Error: Request failed with status code 404  \n",
       "3                                                                                   'TypeError: Cannot read property 'pagetype' of undefinedat t.value (/opt/deployment/production/eismweb_79/dist/server.js:1:182185)at /opt/deployment/production/eismweb_79/dist/server.js:1:440852at O (/opt/deployment/production/eismweb_79/dist/server.js:1:441056)at e.t.render (/opt/deployment/production/eismweb_79/dist/server.js:1:450327)at e.t.read (/opt/deployment/production/eismweb_79/dist/server.js:1:449906)at renderToString (/opt/deployment/production/eismweb_79/dist/server.js:1:455097)at w (/opt/deployment/production/eismweb_79/dist/server.js:1:1243482)at Object.<anonymous> (/opt/deployment/production/eismweb_79/dist/server.js:1:1247299)at tryCatch (/opt/deployment/production/eismweb_79/node_modules/regenerator-runtime/runtime.js:65:40)at Generator.invoke [as _invoke] (/opt/deployment/production/eismweb_79/node_modules/regenerator-runtime/runtime.js:303:22)'  \n",
       "4         'TypeError: Cannot read property 'components' of undefinedat c (/opt/deployment/production/eisweb_63/dist/server.js:1:1081152)at /opt/deployment/production/eisweb_63/dist/server.js:1:1089765at /opt/deployment/production/eisweb_63/node_modules/react-router/lib/match.js:67:5at /opt/deployment/production/eisweb_63/node_modules/react-router/lib/createTransitionManager.js:72:11at next (/opt/deployment/production/eisweb_63/node_modules/react-router/lib/AsyncUtils.js:52:7)at loopAsync (/opt/deployment/production/eisweb_63/node_modules/react-router/lib/AsyncUtils.js:56:3)at matchRoutes (/opt/deployment/production/eisweb_63/node_modules/react-router/lib/matchRoutes.js:245:29)at Object.match (/opt/deployment/production/eisweb_63/node_modules/react-router/lib/createTransitionManager.js:66:33)at match (/opt/deployment/production/eisweb_63/node_modules/react-router/lib/match.js:56:21)at /opt/deployment/production/eisweb_63/dist/server.js:1:1089641'  "
      ]
     },
     "execution_count": 59,
     "metadata": {},
     "output_type": "execute_result"
    }
   ],
   "source": [
    "# Seeing data\n",
    "df.head()"
   ]
  },
  {
   "cell_type": "code",
   "execution_count": 60,
   "metadata": {},
   "outputs": [
    {
     "data": {
      "text/plain": [
       "desktop    0.655512\n",
       "mobile     0.344488\n",
       "Name: PLATFORM, dtype: float64"
      ]
     },
     "execution_count": 60,
     "metadata": {},
     "output_type": "execute_result"
    }
   ],
   "source": [
    "# Seeing platform specific\n",
    "# 71 percent of errors are in desktop in this ip while 28 in mobile\n",
    "df['PLATFORM'].value_counts(normalize=True)"
   ]
  },
  {
   "cell_type": "code",
   "execution_count": 61,
   "metadata": {},
   "outputs": [
    {
     "data": {
      "text/plain": [
       "0.5031858630710637"
      ]
     },
     "execution_count": 61,
     "metadata": {},
     "output_type": "execute_result"
    }
   ],
   "source": [
    "## Seeing feed errors vs others\n",
    "df[~(df['REQ_FEED'].isnull())].count()[0] / df.shape[0] \n",
    "# 41.8 percent feederrors "
   ]
  },
  {
   "cell_type": "code",
   "execution_count": 62,
   "metadata": {},
   "outputs": [],
   "source": [
    "def categorize_url(url):\n",
    "    template_map = {\n",
    "        'amp_':'amp',\n",
    "        'articleshow':'articleshow',\n",
    "        'photoshow':'photoshow',\n",
    "        'photolist':'photolist',\n",
    "        'videoshow':'videoshow',\n",
    "        'articlelist':'articlelist',\n",
    "        'topics':'topics'\n",
    "    }\n",
    "    for template in template_map:\n",
    "        if template in url:\n",
    "            return template_map[template]\n",
    "    return 'others'\n",
    "df['URL_CATEGORY'] = df['REQ_URL'].apply(categorize_url)\n"
   ]
  },
  {
   "cell_type": "code",
   "execution_count": 63,
   "metadata": {},
   "outputs": [
    {
     "data": {
      "text/plain": [
       "articlelist    24940\n",
       "articleshow    15010\n",
       "amp             5779\n",
       "videoshow       4815\n",
       "photoshow       2330\n",
       "others          1961\n",
       "photolist        443\n",
       "topics           123\n",
       "Name: URL_CATEGORY, dtype: int64"
      ]
     },
     "execution_count": 63,
     "metadata": {},
     "output_type": "execute_result"
    }
   ],
   "source": [
    "df['URL_CATEGORY'].value_counts()"
   ]
  },
  {
   "cell_type": "code",
   "execution_count": 64,
   "metadata": {},
   "outputs": [],
   "source": [
    "# How i found the categories:\n",
    "# First inspected the df, found 404 and undefined, started with these as a base along with null\n",
    "# Characterized others as \"others\" manually inspected others one by one and\n",
    "# found: 410 ,403, ['object Object'] timeout\n",
    "def categorize_error(error):\n",
    "    #     categories = ['null','undefined','404','410','ERR_HTTP_HEADERS_SENT','9000ms']\n",
    "    categories = {\n",
    "       '[object Object]':'[object Object]','undefined':'undefined','404':'404','410':'410','ECONNRESET':'ECONNRESET','ERR_HTTP_HEADERS_SENT':'ERR_HTTP_HEADERS_SENT','9000ms':'timeout'       \n",
    "    }\n",
    "    for cat in categories:\n",
    "        if cat in error:\n",
    "            return categories[cat]\n",
    "    return 'other'\n",
    "            \n",
    "df['ERROR_TYPE'] = df['DESC'].apply(categorize_error)"
   ]
  },
  {
   "cell_type": "code",
   "execution_count": 65,
   "metadata": {},
   "outputs": [
    {
     "data": {
      "text/plain": [
       "404                      26996\n",
       "ERR_HTTP_HEADERS_SENT    17928\n",
       "undefined                 7203\n",
       "410                       2618\n",
       "[object Object]            353\n",
       "other                      185\n",
       "timeout                    113\n",
       "ECONNRESET                   5\n",
       "Name: ERROR_TYPE, dtype: int64"
      ]
     },
     "execution_count": 65,
     "metadata": {},
     "output_type": "execute_result"
    }
   ],
   "source": [
    "df['ERROR_TYPE'].value_counts()"
   ]
  },
  {
   "cell_type": "code",
   "execution_count": 66,
   "metadata": {},
   "outputs": [
    {
     "data": {
      "text/plain": [
       "107      '[object Object]'\n",
       "112      '[object Object]'\n",
       "119      '[object Object]'\n",
       "125      '[object Object]'\n",
       "181      '[object Object]'\n",
       "               ...        \n",
       "55077    '[object Object]'\n",
       "55085    '[object Object]'\n",
       "55264    '[object Object]'\n",
       "55391    '[object Object]'\n",
       "55393    '[object Object]'\n",
       "Name: DESC, Length: 353, dtype: object"
      ]
     },
     "execution_count": 66,
     "metadata": {},
     "output_type": "execute_result"
    }
   ],
   "source": [
    "# Very vague type of error\n",
    "df['DESC'][df['ERROR_TYPE'] == '[object Object]']"
   ]
  },
  {
   "cell_type": "code",
   "execution_count": 67,
   "metadata": {},
   "outputs": [
    {
     "data": {
      "text/plain": [
       "107                                                                             https://eisamay.indiatimes.com/nation/army-officer-shot-dead-by-jawan-in-uri-sector-in-jammu-and-kashmir/-/jawan/photoshow/59645394.cms\n",
       "112                                                                    https://eisamay.indiatimes.com/business/business-news/jana-small-finance-bank-provides-9-6-interest-rate-on-fixed-deposit/photoshow/68437855.cms\n",
       "119                                                                                                    https://eisamay.indiatimes.com/lifestyle/health-fitness/6-proven-health-benefits-of-dates/photoshow/68343345.cms\n",
       "125                                                                 https://eisamay.indiatimes.com/business/business-news/jana-small-finance-bank-provides-9-6-interest-rate-on-fixed-deposit/fd/photoshow/68437855.cms\n",
       "181                                                                                                                                            https://eisamay.indiatimes.com/bangla-news-live/-/photoshow/63640911.cms\n",
       "                                                                                                              ...                                                                                                      \n",
       "55077                                                                                                                                          https://eisamay.indiatimes.com/bangla-news-live/-/photoshow/66473346.cms\n",
       "55085    https://eisamay.indiatimes.com/nation/neckligencey-west-bengal-forest-department-not-count-the-migratory-bird-bardhaman-purbasthali-bird-sanctuary/bardhaman-purbasthali-bird-sanctuary/photoshow/69185094.cms\n",
       "55264                                                                                                                                          https://eisamay.indiatimes.com/bangla-news-live/-/photoshow/67814971.cms\n",
       "55391                                                                                              https://eisamay.indiatimes.com/west-bengal-news/durgapur-news/protest-of-aloy-steel-workers/articleshow/70367014.cms\n",
       "55393                                                                                                https://eisamay.indiatimes.com/west-bengal-news/durgapur-news/protest-of-aloy-steel-workers/photoshow/70367014.cms\n",
       "Name: REQ_URL, Length: 353, dtype: object"
      ]
     },
     "execution_count": 67,
     "metadata": {},
     "output_type": "execute_result"
    }
   ],
   "source": [
    "# Further inspection reveals that some urls are broken with '-' in between. It will be useful if we categorize these.\n",
    "df['REQ_URL'][df['ERROR_TYPE'] == '[object Object]']"
   ]
  },
  {
   "cell_type": "code",
   "execution_count": 68,
   "metadata": {},
   "outputs": [],
   "source": [
    "# Categories to check where we failed in urls\n",
    "# Manually inspecting, i found '-/' '/-/' and cases like\n",
    "df['IS_URL_ERROR'] = df['REQ_URL'].apply(lambda x: '/-/' in x or '-/' in x or '%' in x)"
   ]
  },
  {
   "cell_type": "markdown",
   "metadata": {},
   "source": [
    "> Analyse time of errors to find out if there is a pattern"
   ]
  },
  {
   "cell_type": "markdown",
   "metadata": {},
   "source": [
    "* **Following are the amp urls where the url is correctly formed, but still it fails** "
   ]
  },
  {
   "cell_type": "code",
   "execution_count": 72,
   "metadata": {},
   "outputs": [
    {
     "data": {
      "text/plain": [
       "18                                                          https://eisamay.indiatimes.com/tech/mobile-review/amp_articlelist/64760842.cms\n",
       "28                                                       https://eisamay.indiatimes.com/entertainment/tv-news/amp_articlelist/15900880.cms\n",
       "29                                             https://eisamay.indiatimes.com/west-bengal-news/24pargana-news/amp_articlelist/49780592.cms\n",
       "35                                                                             https://eisamay.indiatimes.com/amp_articlelist/50119970.cms\n",
       "37             https://eisamay.indiatimes.com/lifestyle/sex/bizarre-sex-rules-of-various-countries-in-world/amp_articleshow/photo_77053620\n",
       "38                                                    https://eisamay.indiatimes.com/lifestyle/health-fitness/amp_articlelist/15992584.cms\n",
       "46                                             https://eisamay.indiatimes.com/west-bengal-news/bardhaman-news/amp_articlelist/51647343.cms\n",
       "55             https://eisamay.indiatimes.com/lifestyle/sex/bizarre-sex-rules-of-various-countries-in-world/amp_articleshow/photo_77053622\n",
       "58             https://eisamay.indiatimes.com/lifestyle/sex/bizarre-sex-rules-of-various-countries-in-world/amp_articleshow/photo_77053621\n",
       "62                                                                   https://eisamay.indiatimes.com/astrology/amp_articlelist/19127963.cms\n",
       "67                                                          https://eisamay.indiatimes.com/career/new-careers/amp_articlelist/20627652.cms\n",
       "70             https://eisamay.indiatimes.com/lifestyle/sex/bizarre-sex-rules-of-various-countries-in-world/amp_articleshow/photo_77053620\n",
       "76             https://eisamay.indiatimes.com/lifestyle/sex/bizarre-sex-rules-of-various-countries-in-world/amp_articleshow/photo_77053620\n",
       "88     https://eisamay.indiatimes.com/lifestyle/health-fitness/swine-flu-unknown-facts-about-h1n1-influenza/amp_articleshow/photo_73910957\n",
       "91                                            https://eisamay.indiatimes.com/astrology/rituals/vaastu-shastra/amp_articlelist/19129760.cms\n",
       "208            https://eisamay.indiatimes.com/lifestyle/sex/bizarre-sex-rules-of-various-countries-in-world/amp_articleshow/photo_77053620\n",
       "224                                               https://eisamay.indiatimes.com/entertainment/cinema/amp_articlelist/57768793.cms?curpg=2\n",
       "225                                               https://eisamay.indiatimes.com/entertainment/cinema/amp_articlelist/57768793.cms?curpg=2\n",
       "237                                            https://eisamay.indiatimes.com/west-bengal-news/24pargana-news/amp_articlelist/49780592.cms\n",
       "261            https://eisamay.indiatimes.com/lifestyle/sex/bizarre-sex-rules-of-various-countries-in-world/amp_articleshow/photo_77053633\n",
       "Name: REQ_URL, dtype: object"
      ]
     },
     "execution_count": 72,
     "metadata": {},
     "output_type": "execute_result"
    }
   ],
   "source": [
    "df['REQ_URL'][(df['URL_CATEGORY'] == 'amp') & ~(df['IS_URL_ERROR'])].head(20)"
   ]
  }
 ],
 "metadata": {
  "kernelspec": {
   "display_name": "Python 3",
   "language": "python",
   "name": "python3"
  },
  "language_info": {
   "codemirror_mode": {
    "name": "ipython",
    "version": 3
   },
   "file_extension": ".py",
   "mimetype": "text/x-python",
   "name": "python",
   "nbconvert_exporter": "python",
   "pygments_lexer": "ipython3",
   "version": "3.8.3"
  }
 },
 "nbformat": 4,
 "nbformat_minor": 2
}
