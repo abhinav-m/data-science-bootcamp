{
 "cells": [
  {
   "cell_type": "markdown",
   "metadata": {
    "id": "3DR-eO17geWu"
   },
   "source": [
    "# Convolutional Neural Network"
   ]
  },
  {
   "cell_type": "markdown",
   "metadata": {
    "id": "EMefrVPCg-60"
   },
   "source": [
    "### Importing the libraries"
   ]
  },
  {
   "cell_type": "code",
   "execution_count": 1,
   "metadata": {
    "id": "luXYcyeNkmX2"
   },
   "outputs": [],
   "source": [
    "import tensorflow as tf\n",
    "from keras.preprocessing.image import ImageDataGenerator \n"
   ]
  },
  {
   "cell_type": "code",
   "execution_count": 2,
   "metadata": {
    "id": "FIleuCAjoFD8"
   },
   "outputs": [
    {
     "data": {
      "text/plain": [
       "'2.3.1'"
      ]
     },
     "execution_count": 2,
     "metadata": {},
     "output_type": "execute_result"
    }
   ],
   "source": [
    "tf.__version__"
   ]
  },
  {
   "cell_type": "markdown",
   "metadata": {
    "id": "oxQxCBWyoGPE"
   },
   "source": [
    "## Part 1 - Data Preprocessing"
   ]
  },
  {
   "cell_type": "markdown",
   "metadata": {
    "id": "MvE-heJNo3GG"
   },
   "source": [
    "### Preprocessing the Training set"
   ]
  },
  {
   "cell_type": "code",
   "execution_count": 3,
   "metadata": {
    "id": "BkPrswxxk7Rb"
   },
   "outputs": [
    {
     "name": "stdout",
     "output_type": "stream",
     "text": [
      "Found 8000 images belonging to 2 classes.\n"
     ]
    }
   ],
   "source": [
    "# Adding image augmentation( noise flipping etc) to avoid overfitting\n",
    "# Rescaling, shearing and adding zoom , flipping horizontally\n",
    "train_datagen = ImageDataGenerator(\n",
    "    rescale = 1./255,\n",
    "    shear_range = 0.2,\n",
    "    zoom_range =0.2,\n",
    "    horizontal_flip=True\n",
    ")\n",
    "\n",
    "\n",
    "training_set = train_datagen.flow_from_directory(\n",
    "        'dataset/training_set',\n",
    "        # Size of image to reduce\n",
    "        target_size=(64, 64),\n",
    "        batch_size=32,\n",
    "        class_mode='binary')"
   ]
  },
  {
   "cell_type": "markdown",
   "metadata": {
    "id": "mrCMmGw9pHys"
   },
   "source": [
    "### Preprocessing the Test set"
   ]
  },
  {
   "cell_type": "code",
   "execution_count": 4,
   "metadata": {
    "id": "D8HVEqAdnD2o"
   },
   "outputs": [
    {
     "name": "stdout",
     "output_type": "stream",
     "text": [
      "Found 2000 images belonging to 2 classes.\n"
     ]
    }
   ],
   "source": [
    "# To not change the quality of images of test, but add feature scaling.\n",
    "test_datagen = ImageDataGenerator(rescale=1./255)\n",
    "\n",
    "test_set = test_datagen.flow_from_directory('dataset/test_set',\n",
    "        # Size of image to reduce\n",
    "        target_size=(64, 64),\n",
    "        batch_size=32,\n",
    "        class_mode='binary')"
   ]
  },
  {
   "cell_type": "markdown",
   "metadata": {
    "id": "af8O4l90gk7B"
   },
   "source": [
    "## Part 2 - Building the CNN"
   ]
  },
  {
   "cell_type": "code",
   "execution_count": 5,
   "metadata": {
    "collapsed": true,
    "id": "unA0z7lqpdpB"
   },
   "outputs": [],
   "source": [
    "cnn = tf.keras.models.Sequential()"
   ]
  },
  {
   "cell_type": "markdown",
   "metadata": {
    "id": "ces1gXY2lmoX"
   },
   "source": [
    "### Initialising the CNN"
   ]
  },
  {
   "cell_type": "markdown",
   "metadata": {
    "id": "u5YJj_XMl5LF"
   },
   "source": [
    "### Step 1 - Convolution"
   ]
  },
  {
   "cell_type": "code",
   "execution_count": 6,
   "metadata": {
    "collapsed": true,
    "id": "PmaXCRivpsRG"
   },
   "outputs": [],
   "source": [
    "cnn.add(tf.keras.layers.Conv2D(filters=32,kernel_size=3,activation='relu',input_shape=[64,64,3]))"
   ]
  },
  {
   "cell_type": "markdown",
   "metadata": {
    "id": "tf87FpvxmNOJ"
   },
   "source": [
    "### Step 2 - Pooling"
   ]
  },
  {
   "cell_type": "code",
   "execution_count": 7,
   "metadata": {
    "collapsed": true,
    "id": "t7wbaBbMqaqE"
   },
   "outputs": [],
   "source": [
    "cnn.add(tf.keras.layers.MaxPool2D(pool_size=2,strides=2))"
   ]
  },
  {
   "cell_type": "markdown",
   "metadata": {
    "id": "xaTOgD8rm4mU"
   },
   "source": [
    "### Adding a second convolutional layer"
   ]
  },
  {
   "cell_type": "code",
   "execution_count": 8,
   "metadata": {
    "collapsed": true,
    "id": "vLR0P7Gaq_r_"
   },
   "outputs": [],
   "source": [
    "# Dont need to specify input size here, automatically takes from above slide\n",
    "cnn.add(tf.keras.layers.Conv2D(filters=32,kernel_size=3,activation='relu'))\n",
    "cnn.add(tf.keras.layers.MaxPool2D(pool_size=2,strides=2))"
   ]
  },
  {
   "cell_type": "markdown",
   "metadata": {
    "id": "tmiEuvTunKfk"
   },
   "source": [
    "### Step 3 - Flattening"
   ]
  },
  {
   "cell_type": "code",
   "execution_count": 9,
   "metadata": {
    "collapsed": true,
    "id": "ICBdvLQ3rPZA"
   },
   "outputs": [],
   "source": [
    "cnn.add(tf.keras.layers.Flatten())"
   ]
  },
  {
   "cell_type": "markdown",
   "metadata": {
    "id": "dAoSECOm203v"
   },
   "source": [
    "### Step 4 - Full Connection"
   ]
  },
  {
   "cell_type": "code",
   "execution_count": 10,
   "metadata": {
    "collapsed": true,
    "id": "jGLLFnW6rWqH"
   },
   "outputs": [],
   "source": [
    "# Last layer is ANN\n",
    "cnn.add(tf.keras.layers.Dense(units=128,activation='relu'))"
   ]
  },
  {
   "cell_type": "markdown",
   "metadata": {
    "id": "yTldFvbX28Na"
   },
   "source": [
    "### Step 5 - Output Layer"
   ]
  },
  {
   "cell_type": "code",
   "execution_count": 11,
   "metadata": {
    "collapsed": true,
    "id": "h9ZJdmMCrl5w"
   },
   "outputs": [],
   "source": [
    "# Output layer since its binary (cat / dog) and activation function as sigmoid for probabilities\n",
    "cnn.add(tf.keras.layers.Dense(units=1,activation='sigmoid'))"
   ]
  },
  {
   "cell_type": "markdown",
   "metadata": {
    "id": "D6XkI90snSDl"
   },
   "source": [
    "## Part 3 - Training the CNN"
   ]
  },
  {
   "cell_type": "markdown",
   "metadata": {
    "id": "vfrFQACEnc6i"
   },
   "source": [
    "### Compiling the CNN"
   ]
  },
  {
   "cell_type": "code",
   "execution_count": 12,
   "metadata": {
    "collapsed": true,
    "id": "ssKNid0gs90A"
   },
   "outputs": [],
   "source": [
    "cnn.compile(optimizer='adam',loss='binary_crossentropy',metrics=['accuracy'])"
   ]
  },
  {
   "cell_type": "markdown",
   "metadata": {
    "id": "ehS-v3MIpX2h"
   },
   "source": [
    "### Training the CNN on the Training set and evaluating it on the Test set"
   ]
  },
  {
   "cell_type": "code",
   "execution_count": 14,
   "metadata": {
    "id": "XkeU3LF2tTtQ"
   },
   "outputs": [
    {
     "name": "stdout",
     "output_type": "stream",
     "text": [
      "Epoch 1/25\n",
      "250/250 [==============================] - 191s 765ms/step - accuracy: 0.5689 - loss: 0.6766 - val_accuracy: 0.5735 - val_loss: 0.6913\n",
      "Epoch 2/25\n",
      "250/250 [==============================] - 70s 280ms/step - accuracy: 0.6649 - loss: 0.6169 - val_accuracy: 0.7080 - val_loss: 0.5635\n",
      "Epoch 3/25\n",
      "250/250 [==============================] - 62s 247ms/step - accuracy: 0.7129 - loss: 0.5576 - val_accuracy: 0.7460 - val_loss: 0.5307\n",
      "Epoch 4/25\n",
      "250/250 [==============================] - 68s 271ms/step - accuracy: 0.7337 - loss: 0.5307 - val_accuracy: 0.7545 - val_loss: 0.5162\n",
      "Epoch 5/25\n",
      "250/250 [==============================] - 72s 287ms/step - accuracy: 0.7506 - loss: 0.5064 - val_accuracy: 0.7625 - val_loss: 0.4907\n",
      "Epoch 6/25\n",
      "250/250 [==============================] - 96s 386ms/step - accuracy: 0.7590 - loss: 0.4897 - val_accuracy: 0.7630 - val_loss: 0.4872\n",
      "Epoch 7/25\n",
      "250/250 [==============================] - 63s 251ms/step - accuracy: 0.7735 - loss: 0.4690 - val_accuracy: 0.7720 - val_loss: 0.4965\n",
      "Epoch 8/25\n",
      "250/250 [==============================] - 70s 279ms/step - accuracy: 0.7812 - loss: 0.4619 - val_accuracy: 0.7665 - val_loss: 0.4859\n",
      "Epoch 9/25\n",
      "250/250 [==============================] - 70s 280ms/step - accuracy: 0.7895 - loss: 0.4429 - val_accuracy: 0.7870 - val_loss: 0.4536\n",
      "Epoch 10/25\n",
      "250/250 [==============================] - 77s 309ms/step - accuracy: 0.7915 - loss: 0.4396 - val_accuracy: 0.7795 - val_loss: 0.4611\n",
      "Epoch 11/25\n",
      "250/250 [==============================] - 68s 270ms/step - accuracy: 0.8004 - loss: 0.4248 - val_accuracy: 0.7915 - val_loss: 0.4549\n",
      "Epoch 12/25\n",
      "250/250 [==============================] - 75s 299ms/step - accuracy: 0.8121 - loss: 0.4089 - val_accuracy: 0.8030 - val_loss: 0.4495\n",
      "Epoch 13/25\n",
      "250/250 [==============================] - 98s 391ms/step - accuracy: 0.8186 - loss: 0.4042 - val_accuracy: 0.7950 - val_loss: 0.4516\n",
      "Epoch 14/25\n",
      "250/250 [==============================] - 93s 370ms/step - accuracy: 0.8188 - loss: 0.3914 - val_accuracy: 0.7930 - val_loss: 0.4729\n",
      "Epoch 15/25\n",
      "250/250 [==============================] - 71s 283ms/step - accuracy: 0.8260 - loss: 0.3842 - val_accuracy: 0.7955 - val_loss: 0.4617\n",
      "Epoch 16/25\n",
      "250/250 [==============================] - 89s 358ms/step - accuracy: 0.8288 - loss: 0.3781 - val_accuracy: 0.8060 - val_loss: 0.4611\n",
      "Epoch 17/25\n",
      "250/250 [==============================] - 70s 279ms/step - accuracy: 0.8389 - loss: 0.3631 - val_accuracy: 0.8050 - val_loss: 0.4438\n",
      "Epoch 18/25\n",
      "250/250 [==============================] - 158s 634ms/step - accuracy: 0.8391 - loss: 0.3554 - val_accuracy: 0.7925 - val_loss: 0.4678\n",
      "Epoch 19/25\n",
      "250/250 [==============================] - 112s 448ms/step - accuracy: 0.8439 - loss: 0.3495 - val_accuracy: 0.8075 - val_loss: 0.4499\n",
      "Epoch 20/25\n",
      "250/250 [==============================] - 141s 562ms/step - accuracy: 0.8520 - loss: 0.3313 - val_accuracy: 0.8055 - val_loss: 0.4481\n",
      "Epoch 21/25\n",
      "250/250 [==============================] - 69s 276ms/step - accuracy: 0.8572 - loss: 0.3254 - val_accuracy: 0.7950 - val_loss: 0.4822\n",
      "Epoch 22/25\n",
      "250/250 [==============================] - 76s 302ms/step - accuracy: 0.8594 - loss: 0.3214 - val_accuracy: 0.8030 - val_loss: 0.4692\n",
      "Epoch 23/25\n",
      "250/250 [==============================] - 71s 284ms/step - accuracy: 0.8636 - loss: 0.3139 - val_accuracy: 0.7965 - val_loss: 0.5049\n",
      "Epoch 24/25\n",
      "250/250 [==============================] - 66s 264ms/step - accuracy: 0.8645 - loss: 0.3035 - val_accuracy: 0.8025 - val_loss: 0.4687\n",
      "Epoch 25/25\n",
      "250/250 [==============================] - 68s 273ms/step - accuracy: 0.8726 - loss: 0.3036 - val_accuracy: 0.8060 - val_loss: 0.4710\n"
     ]
    },
    {
     "data": {
      "text/plain": [
       "<tensorflow.python.keras.callbacks.History at 0x7f06229f3320>"
      ]
     },
     "execution_count": 14,
     "metadata": {},
     "output_type": "execute_result"
    }
   ],
   "source": [
    "cnn.fit(x=training_set,validation_data=test_set,epochs=25)"
   ]
  },
  {
   "cell_type": "markdown",
   "metadata": {
    "id": "U3PZasO0006Z"
   },
   "source": [
    "## Part 4 - Making a single prediction"
   ]
  },
  {
   "cell_type": "code",
   "execution_count": 26,
   "metadata": {
    "id": "v3uuHxMIt7sw"
   },
   "outputs": [],
   "source": [
    "import numpy as np\n",
    "from keras.preprocessing import image\n",
    "test_image = image.load_img('dataset/single_prediction/cat_or_dog_4.jpg',target_size=(64,64))\n",
    "test_image = image.img_to_array(test_image)\n",
    "# Since we trained on a batch of 32 , we need to match it here therefore added to image array\n",
    "test_image = np.expand_dims(test_image,axis=0)\n",
    "result = cnn.predict(test_image)\n",
    "training_set.class_indices\n",
    "\n",
    "# Accessing first index\n",
    "if result[0][0] == 1:\n",
    "  prediction='dog'\n",
    "else:\n",
    "  prediction = 'cat'\n"
   ]
  },
  {
   "cell_type": "code",
   "execution_count": 27,
   "metadata": {},
   "outputs": [
    {
     "name": "stdout",
     "output_type": "stream",
     "text": [
      "cat\n"
     ]
    }
   ],
   "source": [
    "print(prediction)"
   ]
  },
  {
   "cell_type": "code",
   "execution_count": null,
   "metadata": {
    "collapsed": true
   },
   "outputs": [],
   "source": []
  }
 ],
 "metadata": {
  "colab": {
   "collapsed_sections": [],
   "name": "convolutional_neural_network.ipynb",
   "provenance": [],
   "toc_visible": true
  },
  "kernelspec": {
   "display_name": "Python [conda root]",
   "language": "python",
   "name": "conda-root-py"
  },
  "language_info": {
   "codemirror_mode": {
    "name": "ipython",
    "version": 3
   },
   "file_extension": ".py",
   "mimetype": "text/x-python",
   "name": "python",
   "nbconvert_exporter": "python",
   "pygments_lexer": "ipython3",
   "version": "3.5.3"
  }
 },
 "nbformat": 4,
 "nbformat_minor": 1
}
